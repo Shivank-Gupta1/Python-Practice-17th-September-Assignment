{
 "cells": [
  {
   "cell_type": "markdown",
   "id": "1a25fd13-45b8-4e9a-beca-325122556e13",
   "metadata": {},
   "source": [
    "## For Loop ##"
   ]
  },
  {
   "cell_type": "code",
   "execution_count": 46,
   "id": "1e8d4351-00f7-44fd-a8d4-06fa7493c6b1",
   "metadata": {},
   "outputs": [],
   "source": [
    "##1.Write a Python program to print numbers from 1 to 10 using a for loop."
   ]
  },
  {
   "cell_type": "code",
   "execution_count": 9,
   "id": "51288dab-5e14-4ff3-8232-442d4aee0ffb",
   "metadata": {},
   "outputs": [
    {
     "name": "stdout",
     "output_type": "stream",
     "text": [
      "1,2,3,4,5,6,7,8,9,"
     ]
    }
   ],
   "source": [
    "for i in range(1,10):\n",
    "    print(i,end=\",\")"
   ]
  },
  {
   "cell_type": "code",
   "execution_count": null,
   "id": "ca001d6d-a0ac-4b71-bfd6-49a321210ed0",
   "metadata": {},
   "outputs": [],
   "source": []
  },
  {
   "cell_type": "code",
   "execution_count": 10,
   "id": "b4703e33-2cc4-4be7-bb95-1ddfcd554920",
   "metadata": {},
   "outputs": [],
   "source": [
    "##2.Explain the difference between a for loop and a while loop in Python."
   ]
  },
  {
   "cell_type": "raw",
   "id": "41332051-ee4c-4bc4-9ca7-3382bcbbb756",
   "metadata": {},
   "source": [
    "For loop is used when number of iterations are known & While loop executes block of code repeatedly while condition is True."
   ]
  },
  {
   "cell_type": "code",
   "execution_count": null,
   "id": "b2307905-8818-484d-9892-8eb87d07295c",
   "metadata": {},
   "outputs": [],
   "source": []
  },
  {
   "cell_type": "code",
   "execution_count": 13,
   "id": "f567dab6-3763-4597-84d3-26c999b1cdfa",
   "metadata": {},
   "outputs": [],
   "source": [
    "##3.Write a Python program to calculate the sum of all numbers from 1 to 100 using a for loop."
   ]
  },
  {
   "cell_type": "code",
   "execution_count": 16,
   "id": "78cd3e4f-521b-488b-b93d-c2a02c4a3f65",
   "metadata": {},
   "outputs": [
    {
     "name": "stdout",
     "output_type": "stream",
     "text": [
      "Sum :  4950\n"
     ]
    }
   ],
   "source": [
    "sum=0\n",
    "for i in range(1,100):\n",
    "    sum=sum+i\n",
    "print(\"Sum : \",sum)\n",
    "    "
   ]
  },
  {
   "cell_type": "code",
   "execution_count": null,
   "id": "743709da-36bf-4d47-97b4-47ecfc811f52",
   "metadata": {},
   "outputs": [],
   "source": []
  },
  {
   "cell_type": "code",
   "execution_count": 17,
   "id": "ecaeaa1b-3cc0-496a-8a32-d33c81baf325",
   "metadata": {},
   "outputs": [],
   "source": [
    "##4.How do you iterate through a list using a for loop in Python?"
   ]
  },
  {
   "cell_type": "code",
   "execution_count": 20,
   "id": "5cecbcb5-6099-45d7-84de-de3f30233ed5",
   "metadata": {},
   "outputs": [
    {
     "name": "stdout",
     "output_type": "stream",
     "text": [
      "1,2,3,4,5,6,7,7,8,8,9,"
     ]
    }
   ],
   "source": [
    "lst=[1,2,3,4,5,6,7,7,8,8,9]\n",
    "for i in lst:\n",
    "    print(i,end=\",\")"
   ]
  },
  {
   "cell_type": "code",
   "execution_count": null,
   "id": "93932152-eef1-4c52-a77f-276dbe31337f",
   "metadata": {},
   "outputs": [],
   "source": []
  },
  {
   "cell_type": "code",
   "execution_count": 21,
   "id": "4f508731-c97e-487f-9c8e-5be44e301de9",
   "metadata": {},
   "outputs": [],
   "source": [
    "##5.Write a Python program to find the product of all elements in a list using a for loop."
   ]
  },
  {
   "cell_type": "code",
   "execution_count": 22,
   "id": "74cc0b7d-e942-4264-bc75-91878d08094a",
   "metadata": {},
   "outputs": [
    {
     "name": "stdout",
     "output_type": "stream",
     "text": [
      "Product :  20321280\n"
     ]
    }
   ],
   "source": [
    "lst=[1,2,3,4,5,6,7,7,8,8,9]\n",
    "product=1\n",
    "for i in lst:\n",
    "    product=product*i\n",
    "print(\"Product : \",product)"
   ]
  },
  {
   "cell_type": "code",
   "execution_count": null,
   "id": "ecc7d4b9-4c98-43ca-9266-64f550d92efe",
   "metadata": {},
   "outputs": [],
   "source": []
  },
  {
   "cell_type": "code",
   "execution_count": 23,
   "id": "fdde66bb-9482-4b25-a899-e226ffb5ece9",
   "metadata": {},
   "outputs": [],
   "source": [
    "##6.Create a Python program that prints all even numbers from 1 to 20 using a for loop."
   ]
  },
  {
   "cell_type": "code",
   "execution_count": 25,
   "id": "6cedf79a-e4a5-406a-86d3-e7549ef2d89e",
   "metadata": {},
   "outputs": [
    {
     "name": "stdout",
     "output_type": "stream",
     "text": [
      "2,4,6,8,10,12,14,16,18,"
     ]
    }
   ],
   "source": [
    "for i in range(1,20):\n",
    "    if i%2==0:\n",
    "        print(i,end=\",\")"
   ]
  },
  {
   "cell_type": "code",
   "execution_count": null,
   "id": "13565fa1-d070-4850-a7f5-43a166f3879f",
   "metadata": {},
   "outputs": [],
   "source": []
  },
  {
   "cell_type": "code",
   "execution_count": 26,
   "id": "ccbb62ff-d655-446a-8264-4b920b6eca81",
   "metadata": {},
   "outputs": [],
   "source": [
    "###7.Write a Python program that calculates the factorial of a number using a for loop."
   ]
  },
  {
   "cell_type": "code",
   "execution_count": 4,
   "id": "8b212859-61e7-4de7-bbd5-e064246de149",
   "metadata": {},
   "outputs": [
    {
     "name": "stdin",
     "output_type": "stream",
     "text": [
      "Enter the number 4\n"
     ]
    },
    {
     "name": "stdout",
     "output_type": "stream",
     "text": [
      "Factorial of a Number 24\n"
     ]
    }
   ],
   "source": [
    "fact=1\n",
    "num=int(input(\"Enter the number\"))\n",
    "for i in range(2,num+1):\n",
    "    fact=fact*i\n",
    "print(\"Factorial of a Number\",fact)"
   ]
  },
  {
   "cell_type": "code",
   "execution_count": null,
   "id": "22d7bb52-ab6f-4a9c-a65e-74f95c0e53aa",
   "metadata": {},
   "outputs": [],
   "source": []
  },
  {
   "cell_type": "code",
   "execution_count": 6,
   "id": "69e5cd19-5d06-4eda-ad5e-53de574a6466",
   "metadata": {},
   "outputs": [],
   "source": [
    "##8.How can you iterate through the characters of a string using a for loop in Python?"
   ]
  },
  {
   "cell_type": "code",
   "execution_count": 7,
   "id": "2229bbf5-369e-4f6c-b6fb-81a156338368",
   "metadata": {},
   "outputs": [
    {
     "name": "stdout",
     "output_type": "stream",
     "text": [
      "s\n",
      "h\n",
      "i\n",
      "v\n",
      "a\n",
      "n\n",
      "k\n"
     ]
    }
   ],
   "source": [
    "name=\"shivank\"\n",
    "for i in name:\n",
    "    print(i)"
   ]
  },
  {
   "cell_type": "code",
   "execution_count": null,
   "id": "9359c131-8c24-4c04-8748-5a7ad680b9b7",
   "metadata": {},
   "outputs": [],
   "source": []
  },
  {
   "cell_type": "code",
   "execution_count": 8,
   "id": "7acbd6cc-605d-4dce-a33a-3684b0391d77",
   "metadata": {},
   "outputs": [],
   "source": [
    "##9.Write a Python program to find the largest number in a list using a for loop."
   ]
  },
  {
   "cell_type": "code",
   "execution_count": 16,
   "id": "598fdeb3-882a-4de5-bd8e-e13bccfa98a6",
   "metadata": {},
   "outputs": [
    {
     "name": "stdout",
     "output_type": "stream",
     "text": [
      "Maximum NUmebr is :  23\n"
     ]
    }
   ],
   "source": [
    "lst=[1,23,4,5,6,7,8,4,3,2,6,7,5,5,7,8,9,9,7,7]\n",
    "max=0\n",
    "for i in lst:\n",
    "    if i>max:\n",
    "        max=i\n",
    "    else:\n",
    "        max\n",
    "print(\"Maximum NUmebr is : \",max)"
   ]
  },
  {
   "cell_type": "code",
   "execution_count": null,
   "id": "5bac5f2b-0aaa-4558-8381-ad0af340592c",
   "metadata": {},
   "outputs": [],
   "source": []
  },
  {
   "cell_type": "code",
   "execution_count": 17,
   "id": "92d247e2-5a96-4074-931d-79b77be68946",
   "metadata": {},
   "outputs": [],
   "source": [
    "##10.Create a Python program that prints the Fibonacci sequence up to a specified limit using a for loop."
   ]
  },
  {
   "cell_type": "code",
   "execution_count": 22,
   "id": "696d5375-11b9-49c4-928c-d324d74399f2",
   "metadata": {},
   "outputs": [
    {
     "name": "stdin",
     "output_type": "stream",
     "text": [
      "Enter the Limit 8\n"
     ]
    },
    {
     "name": "stdout",
     "output_type": "stream",
     "text": [
      "0\n",
      "1\n",
      "1\n",
      "2\n",
      "3\n",
      "5\n",
      "8\n",
      "13\n",
      "21\n"
     ]
    }
   ],
   "source": [
    "limit=int(input(\"Enter the Limit\"))\n",
    "a=0\n",
    "b=1\n",
    "print(a)\n",
    "print(b)\n",
    "for i in range(2,limit+1):\n",
    "    c=a+b\n",
    "    print(c)\n",
    "    a,b=b,c"
   ]
  },
  {
   "cell_type": "code",
   "execution_count": null,
   "id": "88978828-05b8-41e1-aefc-57b8070110e2",
   "metadata": {},
   "outputs": [],
   "source": []
  },
  {
   "cell_type": "code",
   "execution_count": 23,
   "id": "4ba2a4e3-1f2b-490c-945f-e9e2abdf919e",
   "metadata": {},
   "outputs": [],
   "source": [
    "##11.Write a Python program to count the number of vowels in a given string using a for loop."
   ]
  },
  {
   "cell_type": "code",
   "execution_count": 29,
   "id": "30c5e421-e2fc-468d-a9a4-3daf208fa430",
   "metadata": {},
   "outputs": [
    {
     "name": "stdout",
     "output_type": "stream",
     "text": [
      "Count of Vowels :  2\n"
     ]
    }
   ],
   "source": [
    "string=\"shivank\"\n",
    "vowel=\"aeiouAEIOU\"\n",
    "count=0\n",
    "for i in string:\n",
    "    if i in vowel:\n",
    "        count=count+1\n",
    "    else:\n",
    "        count\n",
    "print(\"Count of Vowels : \",count)"
   ]
  },
  {
   "cell_type": "code",
   "execution_count": null,
   "id": "1fa7a1e6-d52f-432f-af6c-339b5739d7a5",
   "metadata": {},
   "outputs": [],
   "source": []
  },
  {
   "cell_type": "code",
   "execution_count": 30,
   "id": "902b23e3-3dad-421f-a7b1-ff56d219fff5",
   "metadata": {},
   "outputs": [],
   "source": [
    "##12.Create a Python program that generates a multiplication table for a given number using a for loop."
   ]
  },
  {
   "cell_type": "code",
   "execution_count": 13,
   "id": "2305aea5-d897-42b5-8c19-4ff9af0b4a59",
   "metadata": {},
   "outputs": [
    {
     "name": "stdin",
     "output_type": "stream",
     "text": [
      "Enter the number 7\n"
     ]
    },
    {
     "name": "stdout",
     "output_type": "stream",
     "text": [
      "[7, 14, 21, 28, 35, 42, 49, 56, 63, 70]\n"
     ]
    }
   ],
   "source": [
    "number=int(input(\"Enter the number\"))\n",
    "x=[i*number for i in range(1,11)]\n",
    "print(x)"
   ]
  },
  {
   "cell_type": "code",
   "execution_count": null,
   "id": "28e884a2-aa92-4dc8-92fa-5c7e8146b069",
   "metadata": {},
   "outputs": [],
   "source": []
  },
  {
   "cell_type": "code",
   "execution_count": 34,
   "id": "c3171c2a-e566-45c6-8060-aed454add0ec",
   "metadata": {},
   "outputs": [],
   "source": [
    "##13.Write a Python program to reverse a list using a for loop."
   ]
  },
  {
   "cell_type": "code",
   "execution_count": 38,
   "id": "44e88d3a-e66c-4c38-b4ca-9e1dbbd81b74",
   "metadata": {},
   "outputs": [
    {
     "name": "stdout",
     "output_type": "stream",
     "text": [
      "[11, 10, 9, 8, 7, 6, 5, 4, 3, 2, 1]\n"
     ]
    }
   ],
   "source": [
    "lst=[1,2,3,4,5,6,7,8,9,10,11]\n",
    "lst1=[]\n",
    "for i in lst:\n",
    "    lst1=[i]+lst1\n",
    "print(lst1)"
   ]
  },
  {
   "cell_type": "code",
   "execution_count": null,
   "id": "bc7840a1-8bf5-4a64-806d-23c8693fe41a",
   "metadata": {},
   "outputs": [],
   "source": []
  },
  {
   "cell_type": "code",
   "execution_count": 1,
   "id": "33944a4f-3fc6-4292-9c27-7efae29df145",
   "metadata": {},
   "outputs": [],
   "source": [
    "##14.Write a Python program to find the common elements between two lists using a for loop."
   ]
  },
  {
   "cell_type": "code",
   "execution_count": 4,
   "id": "eda9901a-de7f-4e83-ab9f-34ab79db39c3",
   "metadata": {},
   "outputs": [
    {
     "name": "stdout",
     "output_type": "stream",
     "text": [
      "Common Elements :  [1, 5, 6, 9]\n"
     ]
    }
   ],
   "source": [
    "lst1=[1,2,3,4,5,6,7,8,9,10,11]\n",
    "lst2=[12,13,14,15,16,17,9,6,1,5]\n",
    "common=[]\n",
    "for i in lst1:\n",
    "    if i in lst2:\n",
    "        common.append(i)\n",
    "print(\"Common Elements : \",common)"
   ]
  },
  {
   "cell_type": "code",
   "execution_count": null,
   "id": "b0c7705a-ad98-4085-bc16-d16bed87f1b1",
   "metadata": {},
   "outputs": [],
   "source": []
  },
  {
   "cell_type": "code",
   "execution_count": 6,
   "id": "aff67ae0-d7ce-494f-8ea9-6faa062dc604",
   "metadata": {},
   "outputs": [],
   "source": [
    "##15.Explain how to use a for loop to iterate through the keys and values of a dictionary in Python."
   ]
  },
  {
   "cell_type": "code",
   "execution_count": 15,
   "id": "daa17250-e6a4-40e1-9de3-cb357ed88ae7",
   "metadata": {},
   "outputs": [
    {
     "name": "stdout",
     "output_type": "stream",
     "text": [
      "color\n",
      "fruit\n",
      "pet\n",
      "color -> blue\n",
      "fruit -> apple\n",
      "pet -> dog\n"
     ]
    }
   ],
   "source": [
    "likes = {\"color\": \"blue\", \"fruit\": \"apple\", \"pet\": \"dog\"}\n",
    "for key in likes:\n",
    "    print(key)\n",
    "for key in likes:\n",
    "    print(key, \"->\" ,likes[key])"
   ]
  },
  {
   "cell_type": "code",
   "execution_count": null,
   "id": "b78b6aae-5857-44b1-b5f9-c5516c59322e",
   "metadata": {},
   "outputs": [],
   "source": []
  },
  {
   "cell_type": "code",
   "execution_count": 16,
   "id": "8edcb076-e98e-457f-9565-65da3454a04a",
   "metadata": {},
   "outputs": [],
   "source": [
    "##16.Write a Python program to find the GCD (Greatest Common Divisor) of two numbers using a for loop."
   ]
  },
  {
   "cell_type": "code",
   "execution_count": 21,
   "id": "504d816b-b83d-42e4-9e61-5f8d8dc4d272",
   "metadata": {},
   "outputs": [
    {
     "name": "stdin",
     "output_type": "stream",
     "text": [
      "Enter 1st Number 54\n",
      "Enter 2nd Number 36\n"
     ]
    },
    {
     "name": "stdout",
     "output_type": "stream",
     "text": [
      "GCD is :  18\n"
     ]
    }
   ],
   "source": [
    "first=int(input(\"Enter 1st Number\"))\n",
    "second=int(input(\"Enter 2nd Number\"))\n",
    "if first>second:\n",
    "    temp=second\n",
    "else:\n",
    "    temp=first\n",
    "for i in range(1,temp+1):\n",
    "    if ((first%i==0) and (second%i==0)):\n",
    "        GCD=i\n",
    "print(\"GCD is : \",GCD)"
   ]
  },
  {
   "cell_type": "code",
   "execution_count": null,
   "id": "f4b99168-c641-4d6d-a0c7-27659211522c",
   "metadata": {},
   "outputs": [],
   "source": []
  },
  {
   "cell_type": "code",
   "execution_count": 22,
   "id": "b2fa5db5-db81-41bf-81e2-f7146cbfd15c",
   "metadata": {},
   "outputs": [],
   "source": [
    "##17.Create a Python program that checks if a string is a palindrome using a for loop."
   ]
  },
  {
   "cell_type": "code",
   "execution_count": 27,
   "id": "a31b1d25-5686-48b7-9fee-350467e32c45",
   "metadata": {},
   "outputs": [
    {
     "name": "stdin",
     "output_type": "stream",
     "text": [
      "Enter the String ouo\n"
     ]
    },
    {
     "name": "stdout",
     "output_type": "stream",
     "text": [
      "Reversed String :  ouo\n",
      "String is Palindrome\n"
     ]
    }
   ],
   "source": [
    "str1=str(input(\"Enter the String\"))\n",
    "reverse=\"\"\n",
    "for i in str1:\n",
    "    reverse=i+reverse\n",
    "print(\"Reversed String : \",reverse) \n",
    "if (str1==reverse):\n",
    "    print(\"String is Palindrome\")\n",
    "else:\n",
    "    print(\"String is not Palindrome\")"
   ]
  },
  {
   "cell_type": "code",
   "execution_count": 28,
   "id": "5ef3b631-1045-425c-a269-c5e776c333a5",
   "metadata": {},
   "outputs": [],
   "source": [
    "##18.Write a Python program to remove duplicates from a list using a for loop."
   ]
  },
  {
   "cell_type": "code",
   "execution_count": 31,
   "id": "fd6a9bcf-8cdf-4e53-919f-4f00f9b26568",
   "metadata": {},
   "outputs": [
    {
     "name": "stdout",
     "output_type": "stream",
     "text": [
      "Unique List :  [1, 2, 3, 4, 5, 6, 7]\n"
     ]
    }
   ],
   "source": [
    "str1=[1,2,3,4,5,6,7,4,2,2,2]\n",
    "unique=[]\n",
    "for i in str1:\n",
    "    if i not in unique:\n",
    "        unique.append(i)\n",
    "print(\"Unique List : \",unique)"
   ]
  },
  {
   "cell_type": "code",
   "execution_count": null,
   "id": "c9454b62-2457-4389-8065-0fb77e389faf",
   "metadata": {},
   "outputs": [],
   "source": []
  },
  {
   "cell_type": "code",
   "execution_count": 32,
   "id": "1d5890d2-bcd0-43c7-9a46-de2682761e94",
   "metadata": {},
   "outputs": [],
   "source": [
    "##19.Create a Python program that counts the number of words in a sentence using a for loop."
   ]
  },
  {
   "cell_type": "code",
   "execution_count": 39,
   "id": "715efc58-c780-4917-a686-bc620c976ff7",
   "metadata": {},
   "outputs": [
    {
     "name": "stdin",
     "output_type": "stream",
     "text": [
      "Enter the Sentence :  my name is\n"
     ]
    },
    {
     "name": "stdout",
     "output_type": "stream",
     "text": [
      "Number of Words is sentence  3\n"
     ]
    }
   ],
   "source": [
    "sentence=str(input(\"Enter the Sentence : \"))\n",
    "check = 0\n",
    "count = 0\n",
    "length = len(sentence)\n",
    "\n",
    "for i in range(length):\n",
    "    if sentence[i]==' ':\n",
    "        if check!=0:\n",
    "            count = count+1\n",
    "        check = 0\n",
    "    else:\n",
    "        check = check+1\n",
    "\n",
    "if check!=0:\n",
    "    count = count+1\n",
    "\n",
    "print(\"Number of Words is sentence \",count)\n"
   ]
  },
  {
   "cell_type": "code",
   "execution_count": null,
   "id": "6343fb49-7bb6-4e75-bb8f-d5d576cbe09e",
   "metadata": {},
   "outputs": [],
   "source": []
  },
  {
   "cell_type": "code",
   "execution_count": 40,
   "id": "fbd421ab-c595-43dd-8534-eed764cd5f53",
   "metadata": {},
   "outputs": [],
   "source": [
    "##20.Write a Python program to find the sum of all odd numbers from 1 to 50 using a for loop."
   ]
  },
  {
   "cell_type": "code",
   "execution_count": 43,
   "id": "4fc59c95-7d56-4e24-b9b9-c5f510348eb2",
   "metadata": {},
   "outputs": [
    {
     "name": "stdout",
     "output_type": "stream",
     "text": [
      "Sum is :  625\n"
     ]
    }
   ],
   "source": [
    "sum1=0\n",
    "for i in range(1,51):\n",
    "    if i%2!=0:\n",
    "        sum1=sum1+i\n",
    "    else:\n",
    "        sum1\n",
    "print(\"Sum is : \", sum1)\n",
    "        "
   ]
  },
  {
   "cell_type": "code",
   "execution_count": null,
   "id": "fd8a98a9-232d-45c0-b348-ec0943ecb7b8",
   "metadata": {},
   "outputs": [],
   "source": []
  },
  {
   "cell_type": "code",
   "execution_count": 44,
   "id": "1a713da3-369c-4eb6-9208-2ad4d47ec738",
   "metadata": {},
   "outputs": [],
   "source": [
    "##21.Write a Python program that checks if a given year is a leap year using a for loop."
   ]
  },
  {
   "cell_type": "code",
   "execution_count": 14,
   "id": "a45f54a0-316d-4bfe-acca-66cdd1676841",
   "metadata": {},
   "outputs": [
    {
     "name": "stdin",
     "output_type": "stream",
     "text": [
      "Enter the Start Year :  2021\n",
      "Enter the End Year :  2025\n"
     ]
    },
    {
     "name": "stdout",
     "output_type": "stream",
     "text": [
      "Year is not a Leap Year-> 2021\n",
      "Year is not a Leap Year-> 2022\n",
      "Year is not a Leap Year-> 2023\n",
      "Year is a Leap Year-> 2024\n",
      "Year is not a Leap Year-> 2025\n"
     ]
    }
   ],
   "source": [
    "start_year=int(input(\"Enter the Start Year : \"))\n",
    "end_year=int(input(\"Enter the End Year : \"))\n",
    "for i in range(start_year,end_year+1):\n",
    "    if i%4==0:\n",
    "        print(\"Year is a Leap Year\"\"->\",i)\n",
    "    else:\n",
    "        print(\"Year is not a Leap Year\"\"->\",i)"
   ]
  },
  {
   "cell_type": "code",
   "execution_count": null,
   "id": "924ab7d8-37af-4204-bf25-a9e91a47b6a0",
   "metadata": {},
   "outputs": [],
   "source": []
  },
  {
   "cell_type": "code",
   "execution_count": 48,
   "id": "78883614-31ed-4c0b-82bc-b1288ea1d7b9",
   "metadata": {},
   "outputs": [],
   "source": [
    "##22.Create a Python program that calculates the square root of a number using a for loop."
   ]
  },
  {
   "cell_type": "code",
   "execution_count": 61,
   "id": "83c74f84-fe39-482f-807e-eeee97a3beb5",
   "metadata": {},
   "outputs": [
    {
     "name": "stdin",
     "output_type": "stream",
     "text": [
      "Enter the start range 9\n",
      "Enter the end range 25\n"
     ]
    },
    {
     "name": "stdout",
     "output_type": "stream",
     "text": [
      "Square root of numbers in range :  [3.0, 3.1622776601683795, 3.3166247903554, 3.4641016151377544, 3.605551275463989, 3.7416573867739413, 3.872983346207417, 4.0, 4.123105625617661, 4.242640687119285, 4.358898943540674, 4.47213595499958, 4.58257569495584, 4.69041575982343, 4.795831523312719, 4.898979485566356]\n"
     ]
    }
   ],
   "source": [
    "import math\n",
    "range1=int(input(\"Enter the start range\"))\n",
    "range2=int(input(\"Enter the end range\"))\n",
    "x=[math.sqrt(i) for i in range(range1,range2)]\n",
    "print(\"Square root of numbers in range : \",x)"
   ]
  },
  {
   "cell_type": "code",
   "execution_count": null,
   "id": "7ab6bc99-7df6-4dad-83c8-87c98c454500",
   "metadata": {},
   "outputs": [],
   "source": []
  },
  {
   "cell_type": "code",
   "execution_count": 62,
   "id": "238ece9f-0d10-449c-a09e-5eb14be133af",
   "metadata": {},
   "outputs": [],
   "source": [
    "##23.Write a Python program to find the LCM (Least Common Multiple) of two numbers using a for loop."
   ]
  },
  {
   "cell_type": "code",
   "execution_count": 64,
   "id": "804b0666-157e-43b2-ada3-5c8d64e221ee",
   "metadata": {},
   "outputs": [
    {
     "name": "stdout",
     "output_type": "stream",
     "text": [
      "LCM of 20 and 25 is: 100.0\n"
     ]
    }
   ],
   "source": [
    "x = 20\n",
    "y = 25\n",
    "if x > y:\n",
    "    x, y = y, x\n",
    "for i in range(1,x+1):\n",
    "    if x%i == 0 and y%i == 0:\n",
    "        gcd = i\n",
    "lcm = (x*y)/gcd\n",
    "print(\"LCM of\", x, \"and\", y, \"is:\", lcm)"
   ]
  },
  {
   "cell_type": "code",
   "execution_count": null,
   "id": "69f06fa8-2be4-4f5c-b6a6-5ed22ec44bb8",
   "metadata": {},
   "outputs": [],
   "source": []
  },
  {
   "cell_type": "markdown",
   "id": "36c24c31-b396-48e9-8786-feeba0f16ea4",
   "metadata": {},
   "source": [
    "## If else ##"
   ]
  },
  {
   "cell_type": "code",
   "execution_count": 66,
   "id": "12c0f5e1-3d00-46f1-ad52-e933969b09ac",
   "metadata": {},
   "outputs": [],
   "source": [
    "##1.Write a Python program to check if a number is positive, negative, or zero using an if-else statement."
   ]
  },
  {
   "cell_type": "code",
   "execution_count": 70,
   "id": "ca5b0be9-0310-4edc-87d7-fe7b0cffd6ce",
   "metadata": {},
   "outputs": [
    {
     "name": "stdin",
     "output_type": "stream",
     "text": [
      "Enter the number :  5\n"
     ]
    },
    {
     "name": "stdout",
     "output_type": "stream",
     "text": [
      "Number is Positive\n"
     ]
    }
   ],
   "source": [
    "number=int(input(\"Enter the number : \"))\n",
    "if number>=0:\n",
    "    if number!=0:\n",
    "        print(\"Number is Positive\")\n",
    "    else:\n",
    "        print(\"Number is Zero\")\n",
    "else:\n",
    "    print(\"Number is Negative\")"
   ]
  },
  {
   "cell_type": "code",
   "execution_count": null,
   "id": "24cf9201-78e5-4827-ab6a-6a7b561fb789",
   "metadata": {},
   "outputs": [],
   "source": []
  },
  {
   "cell_type": "code",
   "execution_count": 71,
   "id": "602618e6-c84a-4669-b5af-02d41d189877",
   "metadata": {},
   "outputs": [],
   "source": [
    "##2.Create a Python program that checks if a given number is even or odd using an if-else statement."
   ]
  },
  {
   "cell_type": "code",
   "execution_count": 76,
   "id": "ecd94a9d-e937-4810-9c20-47eaee88714b",
   "metadata": {},
   "outputs": [
    {
     "name": "stdin",
     "output_type": "stream",
     "text": [
      "Enter the Number :  9.2\n"
     ]
    },
    {
     "name": "stdout",
     "output_type": "stream",
     "text": [
      "Number is Even\n"
     ]
    }
   ],
   "source": [
    "number=float(input(\"Enter the Number : \"))\n",
    "if i%2==0:\n",
    "    print(\"Number is Even\")\n",
    "else:\n",
    "    print(\"Number is Odd\")"
   ]
  },
  {
   "cell_type": "code",
   "execution_count": null,
   "id": "7c98d39f-64d3-4e50-8060-c8e76ca765e0",
   "metadata": {},
   "outputs": [],
   "source": []
  },
  {
   "cell_type": "code",
   "execution_count": 77,
   "id": "9d95c704-ef07-4ca1-81aa-8acc450fa9e8",
   "metadata": {},
   "outputs": [],
   "source": [
    "##3.How can you use nested if-else statements in Python, and provide an example?"
   ]
  },
  {
   "cell_type": "code",
   "execution_count": 78,
   "id": "3901673d-4fb2-4bb5-8562-e7def6332691",
   "metadata": {},
   "outputs": [
    {
     "name": "stdin",
     "output_type": "stream",
     "text": [
      "Enter the number :  7\n"
     ]
    },
    {
     "name": "stdout",
     "output_type": "stream",
     "text": [
      "Number is Positive\n"
     ]
    }
   ],
   "source": [
    "number=int(input(\"Enter the number : \"))\n",
    "if number>=0:\n",
    "    if number!=0:\n",
    "        print(\"Number is Positive\")\n",
    "    else:\n",
    "        print(\"Number is Zero\")\n",
    "else:\n",
    "    print(\"Number is Negative\")"
   ]
  },
  {
   "cell_type": "code",
   "execution_count": null,
   "id": "eb553239-0969-4551-b7b6-6849a7b481f2",
   "metadata": {},
   "outputs": [],
   "source": []
  },
  {
   "cell_type": "code",
   "execution_count": 79,
   "id": "6518b668-cecc-443b-86ad-67dcc3a1b7ca",
   "metadata": {},
   "outputs": [],
   "source": [
    "##4.Write a Python program to determine the largest of three numbers using if-else."
   ]
  },
  {
   "cell_type": "code",
   "execution_count": 81,
   "id": "3aec33c9-a95f-4db8-be23-981f1dfbbaaa",
   "metadata": {},
   "outputs": [
    {
     "name": "stdin",
     "output_type": "stream",
     "text": [
      "Enter the 1st number :  6\n",
      "Enter the 2nd number :  5\n",
      "Enter the 3rd number :  8\n"
     ]
    },
    {
     "name": "stdout",
     "output_type": "stream",
     "text": [
      "3rd Number is largest :  8.0\n"
     ]
    }
   ],
   "source": [
    "number1=float(input(\"Enter the 1st number : \"))\n",
    "number2=float(input(\"Enter the 2nd number : \"))\n",
    "number3=float(input(\"Enter the 3rd number : \"))\n",
    "if (number1>number2) and (number1>number3):\n",
    "    print(\"1st Number is Largest : \",number1)\n",
    "if (number2>number3) and (number2>number1):\n",
    "    print(\"2nd Number is Largest : \",number2)\n",
    "else:\n",
    "    print(\"3rd Number is largest : \",number3)"
   ]
  },
  {
   "cell_type": "code",
   "execution_count": null,
   "id": "aefbfed6-cf1b-451c-beb3-712aceae2e16",
   "metadata": {},
   "outputs": [],
   "source": []
  },
  {
   "cell_type": "code",
   "execution_count": 82,
   "id": "d2bc35a1-71cc-4c43-b532-bdbce1c46612",
   "metadata": {},
   "outputs": [],
   "source": [
    "##5.Write a Python program that calculates the absolute value of a number using if-else."
   ]
  },
  {
   "cell_type": "code",
   "execution_count": 17,
   "id": "1d08f233-b026-4cb2-8f79-3a7afa84f22b",
   "metadata": {
    "tags": []
   },
   "outputs": [
    {
     "name": "stdout",
     "output_type": "stream",
     "text": [
      "1\n"
     ]
    }
   ],
   "source": [
    "def getabsolutevalue(n):\n",
    "    if n<0:\n",
    "        return -n\n",
    "    return n\n",
    "print(getabsolutevalue(-1))"
   ]
  },
  {
   "cell_type": "code",
   "execution_count": null,
   "id": "28465af6-04ae-45ac-a18f-2bccb8662c3b",
   "metadata": {},
   "outputs": [],
   "source": []
  },
  {
   "cell_type": "code",
   "execution_count": 1,
   "id": "8ce010c7-0b97-4d23-a7b4-889cd7e2e4ef",
   "metadata": {},
   "outputs": [],
   "source": [
    "##6.Create a Python program that checks if a given character is a vowel or consonant using if-else."
   ]
  },
  {
   "cell_type": "code",
   "execution_count": 3,
   "id": "6129d638-ff56-4139-ba92-4e52213a43f9",
   "metadata": {},
   "outputs": [
    {
     "name": "stdin",
     "output_type": "stream",
     "text": [
      "Enter the char :  B\n"
     ]
    },
    {
     "name": "stdout",
     "output_type": "stream",
     "text": [
      "Character is Consonant\n"
     ]
    }
   ],
   "source": [
    "char=str(input(\"Enter the char : \"))\n",
    "vowel=\"AEIOUaeiou\"\n",
    "consonant=\"bcdfghjklmnpqrstvwxyzBCDFGHJKLMNPQRSTVWXYZ\"\n",
    "if char in vowel:\n",
    "    print(\"Character is Vowel\")\n",
    "if char in consonant:\n",
    "    print(\"Character is Consonant\")\n",
    "else:\n",
    "    print(\"Character is special character or number\")"
   ]
  },
  {
   "cell_type": "code",
   "execution_count": null,
   "id": "5ea5309d-9f3b-411d-8f29-9ed4a0763c6d",
   "metadata": {},
   "outputs": [],
   "source": []
  },
  {
   "cell_type": "code",
   "execution_count": 4,
   "id": "61ac66f6-8fc2-4821-a448-aba364881cc3",
   "metadata": {},
   "outputs": [],
   "source": [
    "##7.Write a Python program to determine if a user is eligible to vote based on their age using if-else."
   ]
  },
  {
   "cell_type": "code",
   "execution_count": 7,
   "id": "2256d2b4-8d6b-4b40-80c5-3d2f7a4a5669",
   "metadata": {},
   "outputs": [
    {
     "name": "stdin",
     "output_type": "stream",
     "text": [
      "Enter the Age 45\n"
     ]
    },
    {
     "name": "stdout",
     "output_type": "stream",
     "text": [
      "User is eligible to vote\n"
     ]
    }
   ],
   "source": [
    "age=int(input(\"Enter the Age\"))\n",
    "if age>=18:\n",
    "    print(\"User is eligible to vote\")\n",
    "else:\n",
    "    print(\"User is not eligible to vote\")"
   ]
  },
  {
   "cell_type": "code",
   "execution_count": null,
   "id": "1c64ae61-5c2f-4985-b362-0ebf110d1d79",
   "metadata": {},
   "outputs": [],
   "source": []
  },
  {
   "cell_type": "code",
   "execution_count": 9,
   "id": "ae3ea4de-fc89-471a-a1c3-31df1dfc2c5a",
   "metadata": {},
   "outputs": [],
   "source": [
    "##8.Create a Python program that calculates the discount amount based on the purchase amount using if-else."
   ]
  },
  {
   "cell_type": "code",
   "execution_count": 10,
   "id": "30b995c4-e125-4165-b6b9-bac495608679",
   "metadata": {},
   "outputs": [
    {
     "name": "stdin",
     "output_type": "stream",
     "text": [
      "Enter the Purchase Amount 500\n"
     ]
    },
    {
     "name": "stdout",
     "output_type": "stream",
     "text": [
      "No offer is available\n"
     ]
    }
   ],
   "source": [
    "purchase_amount=float(input(\"Enter the Purchase Amount\"))\n",
    "if purchase_amount>=2000 and purchase_amount<=4999:\n",
    "    discounted_price=purchase_amount - (purchase_amount*10)/100\n",
    "    print(\"In puchase of more than 1999, 10% Discount is Given : \",discounted_price)\n",
    "elif purchase_amount>=5000 and purchase_amount<=9999:\n",
    "    discounted_price=purchase_amount - (purchase_amount*20)/100\n",
    "    print(\"In puchase of more than 4999, 20% Discount is Given : \",discounted_price)\n",
    "elif purchase_amount>=10000:\n",
    "    discounted_price=purchase_amount - (purchase_amount*35)/100\n",
    "    print(\"In puchase of more than 9999, 35% Discount is Given : \",discounted_price)\n",
    "else:\n",
    "    print(\"No offer is available\")"
   ]
  },
  {
   "cell_type": "code",
   "execution_count": null,
   "id": "80ad518d-f8e8-4b1f-a8fa-ab9c5cbb3872",
   "metadata": {},
   "outputs": [],
   "source": []
  },
  {
   "cell_type": "code",
   "execution_count": 18,
   "id": "65b95d46-4db2-4173-9dda-5da9d255e715",
   "metadata": {},
   "outputs": [],
   "source": [
    "##9.Write a Python program to check if a number is within a specified range using if-else."
   ]
  },
  {
   "cell_type": "code",
   "execution_count": 25,
   "id": "e8d11a25-35de-4f56-b3ad-5507e2fc9c18",
   "metadata": {},
   "outputs": [
    {
     "name": "stdin",
     "output_type": "stream",
     "text": [
      "Enter the lower range 341\n",
      "Enter the higher range 560\n"
     ]
    },
    {
     "name": "stdout",
     "output_type": "stream",
     "text": [
      "Number is within the specidfied range\n"
     ]
    }
   ],
   "source": [
    "lower_range=int(input(\"Enter the lower range\"))\n",
    "higher_range=int(input(\"Enter the higher range\"))\n",
    "def specified_range(n):\n",
    "    if n in range(lower_range,higher_range):\n",
    "        return print(\"Number is within the specidfied range\")\n",
    "    else:\n",
    "        return print(\"Number is outside the specified range\") \n",
    "    \n",
    "specified_range(345)"
   ]
  },
  {
   "cell_type": "code",
   "execution_count": 12,
   "id": "bbecc40f-1bb5-4bf7-aed9-3f169ee24ef8",
   "metadata": {},
   "outputs": [],
   "source": [
    "##10.Create a Python program that determines the grade of a student based on their score using if-else."
   ]
  },
  {
   "cell_type": "code",
   "execution_count": 13,
   "id": "1c4ca167-aa2a-43bb-ad16-635d575fa708",
   "metadata": {},
   "outputs": [
    {
     "name": "stdin",
     "output_type": "stream",
     "text": [
      "Enter the score gained by Student 78\n"
     ]
    },
    {
     "name": "stdout",
     "output_type": "stream",
     "text": [
      "Grade is B+\n"
     ]
    }
   ],
   "source": [
    "score=int(input(\"Enter the score gained by Student\"))\n",
    "if score>90:\n",
    "    print(\"Grade is A+\")\n",
    "elif score>80 and score<=90:\n",
    "    print(\"Grade is A\")\n",
    "elif score>70 and score<=80:\n",
    "    print(\"Grade is B+\")\n",
    "elif score>60 and score<=70:\n",
    "    print(\"Grade is B\")\n",
    "elif score>50 and score<=60:\n",
    "    print(\"Grade is C\")\n",
    "elif score>40 and score<=50:\n",
    "    print(\"Grade is D\")\n",
    "elif score>=33 and score<=40:\n",
    "    print(\"Grade is E\")\n",
    "else:\n",
    "    print(\"Fail\")"
   ]
  },
  {
   "cell_type": "code",
   "execution_count": null,
   "id": "3e65a064-6c2c-4b3f-9fb5-80c949235fad",
   "metadata": {},
   "outputs": [],
   "source": []
  },
  {
   "cell_type": "code",
   "execution_count": 26,
   "id": "62c4d4ab-0ab4-42c6-a7c0-80da32870960",
   "metadata": {},
   "outputs": [],
   "source": [
    "##11.Write a Python program to check if a string is empty or not using if-else."
   ]
  },
  {
   "cell_type": "code",
   "execution_count": 29,
   "id": "97bdc08c-4788-48eb-bf5c-582797d74332",
   "metadata": {},
   "outputs": [
    {
     "name": "stdout",
     "output_type": "stream",
     "text": [
      "String is Empty\n",
      "String is not Empty\n"
     ]
    }
   ],
   "source": [
    "str1=\"\"\n",
    "str2=\" \"\n",
    "if len(str1)==0:\n",
    "    print(\"String is Empty\")\n",
    "else:\n",
    "    print(\"String is not Empty\")\n",
    "\n",
    "if len(str2)==0:\n",
    "    print(\"String is Empty\")\n",
    "else:\n",
    "    print(\"String is not Empty\")"
   ]
  },
  {
   "cell_type": "code",
   "execution_count": null,
   "id": "65969d0a-fc4b-4886-a2ab-50066823d4e7",
   "metadata": {},
   "outputs": [],
   "source": []
  },
  {
   "cell_type": "code",
   "execution_count": 15,
   "id": "309aa788-7ed3-4685-b960-7d7d65318bdd",
   "metadata": {},
   "outputs": [],
   "source": [
    "##12.Create a Python program that identifies the type of a triangle (e.g., equilateral, isosceles, or scalene) based on input values using if-else."
   ]
  },
  {
   "cell_type": "code",
   "execution_count": 16,
   "id": "e345411f-df82-4713-ba2b-5db4f721dd2e",
   "metadata": {},
   "outputs": [
    {
     "name": "stdin",
     "output_type": "stream",
     "text": [
      "Enter the First Side 6\n",
      "Enter the Second Side 7\n",
      "Enter the Third Side 4\n"
     ]
    },
    {
     "name": "stdout",
     "output_type": "stream",
     "text": [
      "Triangle is Scalene Triangle\n"
     ]
    }
   ],
   "source": [
    "first=float(input(\"Enter the First Side\"))\n",
    "second=float(input(\"Enter the Second Side\"))\n",
    "third=float(input(\"Enter the Third Side\"))\n",
    "if first==second and first==third:\n",
    "    print(\"Triangle is Equilateral\")\n",
    "elif (first==second or second==third or third==first):\n",
    "    print(\"Triangle is Isosceles Triangle\")\n",
    "else:\n",
    "    print(\"Triangle is Scalene Triangle\")"
   ]
  },
  {
   "cell_type": "code",
   "execution_count": null,
   "id": "060f232e-fc29-431b-a07e-734e20d2135e",
   "metadata": {},
   "outputs": [],
   "source": []
  },
  {
   "cell_type": "code",
   "execution_count": 17,
   "id": "3a00229a-14f0-4d14-9707-1d07ec08a90b",
   "metadata": {},
   "outputs": [],
   "source": [
    "###13.Write a Python program to determine the day of the week based on a user-provided number using if-else."
   ]
  },
  {
   "cell_type": "code",
   "execution_count": 1,
   "id": "549cf0c3-c789-43a6-993d-6d7e082eb35f",
   "metadata": {},
   "outputs": [
    {
     "name": "stdin",
     "output_type": "stream",
     "text": [
      "Enter the number 6\n"
     ]
    },
    {
     "name": "stdout",
     "output_type": "stream",
     "text": [
      "Saturday\n"
     ]
    }
   ],
   "source": [
    "number=int(input(\"Enter the number\"))\n",
    "if number>=0:\n",
    "    if number==1:\n",
    "        print(\"Monday\")\n",
    "    if number==2:\n",
    "        print(\"Tuesday\")\n",
    "    if number==3:\n",
    "        print(\"Wednesday\")\n",
    "    if number==4:\n",
    "        print(\"Thursday\")\n",
    "    if number==5:\n",
    "        print(\"Friday\")\n",
    "    if number==6:\n",
    "        print(\"Saturday\")\n",
    "    if number==7:\n",
    "        print(\"Sunday\")\n",
    "    if number==0:\n",
    "        print(\"Please input correct number\")\n",
    "        \n",
    "else:\n",
    "    print(\"Please input correct number\")"
   ]
  },
  {
   "cell_type": "code",
   "execution_count": null,
   "id": "0ce6f2e7-9c8c-4916-89d7-c3416e811fbf",
   "metadata": {},
   "outputs": [],
   "source": []
  },
  {
   "cell_type": "code",
   "execution_count": 2,
   "id": "350832f5-d12d-48e7-a1ad-1b3ce6d05f27",
   "metadata": {},
   "outputs": [],
   "source": [
    "###14.Create a Python program that checks if a given year is a leap year using both if-else and a function."
   ]
  },
  {
   "cell_type": "code",
   "execution_count": 3,
   "id": "f3b126f5-ec38-47d9-ae0c-93f1123ec4e2",
   "metadata": {},
   "outputs": [
    {
     "name": "stdin",
     "output_type": "stream",
     "text": [
      "Enter the Year 2024\n"
     ]
    },
    {
     "name": "stdout",
     "output_type": "stream",
     "text": [
      "Year is a Leap Year\n"
     ]
    }
   ],
   "source": [
    "### Using If-else\n",
    "\n",
    "year=int(input(\"Enter the Year\"))\n",
    "if year%4==0:\n",
    "    print(\"Year is a Leap Year\")\n",
    "else:\n",
    "    print(\"Year is not a Leap Year\")"
   ]
  },
  {
   "cell_type": "code",
   "execution_count": 5,
   "id": "74f75c4a-5b19-473e-944d-c3c52ccefe6c",
   "metadata": {},
   "outputs": [],
   "source": [
    "### Using Function\n",
    "\n",
    "def leap(year):\n",
    "    if year%4==0:\n",
    "        return \"Year is a leap Year\"\n",
    "    else:\n",
    "        return \"Year is not a leap Year\""
   ]
  },
  {
   "cell_type": "code",
   "execution_count": 7,
   "id": "b97965a1-87cf-461f-b6e1-a2d3b4f17425",
   "metadata": {},
   "outputs": [
    {
     "data": {
      "text/plain": [
       "'Year is not a leap Year'"
      ]
     },
     "execution_count": 7,
     "metadata": {},
     "output_type": "execute_result"
    }
   ],
   "source": [
    "leap(2023)"
   ]
  },
  {
   "cell_type": "code",
   "execution_count": null,
   "id": "1ac4cfa8-6d7f-4999-a528-43d1a3c51fe9",
   "metadata": {},
   "outputs": [],
   "source": []
  },
  {
   "cell_type": "code",
   "execution_count": 8,
   "id": "fc57c4e3-982d-4c9f-ab85-4363bfda5f47",
   "metadata": {},
   "outputs": [],
   "source": [
    "####15.How do you use the \"assert\" statement in Python to add debugging checks within if-else blocks?"
   ]
  },
  {
   "cell_type": "code",
   "execution_count": 33,
   "id": "804a2e3f-de39-4f28-82d8-7050d685cb65",
   "metadata": {},
   "outputs": [
    {
     "ename": "AssertionError",
     "evalue": "x does not equal hello!",
     "output_type": "error",
     "traceback": [
      "\u001b[0;31m---------------------------------------------------------------------------\u001b[0m",
      "\u001b[0;31mAssertionError\u001b[0m                            Traceback (most recent call last)",
      "Cell \u001b[0;32mIn[33], line 3\u001b[0m\n\u001b[1;32m      1\u001b[0m x \u001b[38;5;241m=\u001b[39m \u001b[38;5;124m\"\u001b[39m\u001b[38;5;124mgoodbye\u001b[39m\u001b[38;5;124m\"\u001b[39m\n\u001b[1;32m      2\u001b[0m \u001b[38;5;28;01mif\u001b[39;00m x \u001b[38;5;241m!=\u001b[39m \u001b[38;5;124m\"\u001b[39m\u001b[38;5;124mhello\u001b[39m\u001b[38;5;124m\"\u001b[39m:\n\u001b[0;32m----> 3\u001b[0m     \u001b[38;5;28;01mraise\u001b[39;00m \u001b[38;5;167;01mAssertionError\u001b[39;00m(\u001b[38;5;124m\"\u001b[39m\u001b[38;5;124mx does not equal hello!\u001b[39m\u001b[38;5;124m\"\u001b[39m)\n",
      "\u001b[0;31mAssertionError\u001b[0m: x does not equal hello!"
     ]
    }
   ],
   "source": [
    "x = \"goodbye\"\n",
    "if x != \"hello\":\n",
    "    raise AssertionError(\"x does not equal hello!\")"
   ]
  },
  {
   "cell_type": "code",
   "execution_count": null,
   "id": "63186aef-c6af-432e-9848-dd60d510e539",
   "metadata": {},
   "outputs": [],
   "source": []
  },
  {
   "cell_type": "code",
   "execution_count": 9,
   "id": "264d1b11-12d7-48db-be36-10fb7df69129",
   "metadata": {},
   "outputs": [],
   "source": [
    "####16.Create a Python program that determines the eligibility of a person for a senior citizen discount based on age using if-else."
   ]
  },
  {
   "cell_type": "code",
   "execution_count": 11,
   "id": "2c9b3a65-0009-4046-92a3-9e53716ecef8",
   "metadata": {},
   "outputs": [
    {
     "name": "stdin",
     "output_type": "stream",
     "text": [
      "Enter the age 60\n"
     ]
    },
    {
     "name": "stdout",
     "output_type": "stream",
     "text": [
      "Person is a senior citizen\n"
     ]
    }
   ],
   "source": [
    "age=int(input(\"Enter the age\"))\n",
    "if age>=60:\n",
    "    print(\"Person is a senior citizen\")\n",
    "else:\n",
    "    print(\"Person is not a senior citizen\")"
   ]
  },
  {
   "cell_type": "code",
   "execution_count": null,
   "id": "3aa1eab3-5336-4ab9-be31-f5e8095d3d28",
   "metadata": {},
   "outputs": [],
   "source": []
  },
  {
   "cell_type": "code",
   "execution_count": 12,
   "id": "d4805a9a-5651-4e2a-b7d2-666fc1881674",
   "metadata": {},
   "outputs": [],
   "source": [
    "##17.Write a Python program to categorize a given character as uppercase, lowercase, or neither using if-else."
   ]
  },
  {
   "cell_type": "code",
   "execution_count": 16,
   "id": "cf8928e2-a4d8-448d-8ea2-96c6b863c873",
   "metadata": {},
   "outputs": [
    {
     "name": "stdin",
     "output_type": "stream",
     "text": [
      "Enter the character U\n"
     ]
    },
    {
     "name": "stdout",
     "output_type": "stream",
     "text": [
      "Entered Character is in Uppercase\n"
     ]
    }
   ],
   "source": [
    "char=str(input(\"Enter the character\"))\n",
    "lower=\"abcdefghijklmnopqrstuvwxyz\"\n",
    "upper=\"ABCDEFGHIJKLMNOPQRSTUVWXYZ\"\n",
    "if char in upper:\n",
    "    print(\"Entered Character is in Uppercase\")\n",
    "elif char in lower:\n",
    "    print(\"Entered Character is in Lowercase\")\n",
    "else:\n",
    "    print(\"Please enter valid input\")"
   ]
  },
  {
   "cell_type": "code",
   "execution_count": null,
   "id": "3ecacef0-8506-4771-bb3b-13f773dfd2e1",
   "metadata": {},
   "outputs": [],
   "source": []
  },
  {
   "cell_type": "code",
   "execution_count": 17,
   "id": "deb022fc-b4af-474a-baaf-dc4fa3063f64",
   "metadata": {},
   "outputs": [],
   "source": [
    "###18.Write a Python program to determine the roots of a quadratic equation using if-else."
   ]
  },
  {
   "cell_type": "code",
   "execution_count": 18,
   "id": "6391d8f8-7b24-47f0-8bf1-c111905b8bcd",
   "metadata": {},
   "outputs": [
    {
     "name": "stdin",
     "output_type": "stream",
     "text": [
      "Enter the coefficient of x^2:  5\n",
      "Enter the coefficient of x:  7\n",
      "Enter the constant term:  1\n"
     ]
    },
    {
     "name": "stdout",
     "output_type": "stream",
     "text": [
      "Roots are real and distinct: -0.16148351928654964, -1.2385164807134506\n"
     ]
    }
   ],
   "source": [
    "import math\n",
    "\n",
    "def quadratic(a, b, c):\n",
    "    d = b**2 - 4*a*c\n",
    "    if d > 0:\n",
    "        root1 = (-b + math.sqrt(d)) / (2*a)\n",
    "        root2 = (-b - math.sqrt(d)) / (2*a)\n",
    "        return f\"Roots are real and distinct: {root1}, {root2}\"\n",
    "    elif d == 0:\n",
    "        root = -b / (2*a)\n",
    "        return f\"Roots are real and equal: {root}\"\n",
    "    else:\n",
    "        real_part = -b / (2*a)\n",
    "        imaginary_part = math.sqrt(abs(d)) / (2*a)\n",
    "        root1 = complex(real_part, imaginary_part)\n",
    "        root2 = complex(real_part, -imaginary_part)\n",
    "        return f\"Roots are complex: {root1}, {root2}\"\n",
    "\n",
    "a_coefficient = float(input(\"Enter the coefficient of x^2: \"))\n",
    "b_coefficient = float(input(\"Enter the coefficient of x: \"))\n",
    "c_coefficient = float(input(\"Enter the constant term: \"))\n",
    "\n",
    "result = quadratic(a_coefficient, b_coefficient, c_coefficient)\n",
    "print(result)"
   ]
  },
  {
   "cell_type": "code",
   "execution_count": null,
   "id": "57376831-168d-4919-a467-4a21f96d34c2",
   "metadata": {},
   "outputs": [],
   "source": []
  },
  {
   "cell_type": "code",
   "execution_count": 19,
   "id": "4d9d154a-c6a2-4ba0-a4db-aee9678d6398",
   "metadata": {},
   "outputs": [],
   "source": [
    "###19.Create a Python program that checks if a given year is a century year or not using if-else."
   ]
  },
  {
   "cell_type": "code",
   "execution_count": 20,
   "id": "a6711c1e-31a4-46c2-81f1-c68e916ea6af",
   "metadata": {},
   "outputs": [
    {
     "name": "stdin",
     "output_type": "stream",
     "text": [
      "Enter the Year 2024\n"
     ]
    },
    {
     "name": "stdout",
     "output_type": "stream",
     "text": [
      "Year is not a century year\n"
     ]
    }
   ],
   "source": [
    "year=int(input(\"Enter the Year\"))\n",
    "if year%100==0:\n",
    "    print(\"Year is a century year\")\n",
    "else:\n",
    "    print(\"Year is not a century year\")"
   ]
  },
  {
   "cell_type": "code",
   "execution_count": 24,
   "id": "c4c25181-0a34-458b-b465-10c138577f52",
   "metadata": {},
   "outputs": [
    {
     "data": {
      "text/plain": [
       "4.0"
      ]
     },
     "execution_count": 24,
     "metadata": {},
     "output_type": "execute_result"
    }
   ],
   "source": [
    "import math\n",
    "math.sqrt(16)"
   ]
  },
  {
   "cell_type": "code",
   "execution_count": 21,
   "id": "91e0f794-e4f5-4852-a0f4-e2e520a746ab",
   "metadata": {},
   "outputs": [],
   "source": [
    "###20.Write a Python program to determine if a given number is a perfect square using if-else."
   ]
  },
  {
   "cell_type": "code",
   "execution_count": 36,
   "id": "33e2e4e7-6a4f-46c3-9e15-9a5132cc1083",
   "metadata": {},
   "outputs": [
    {
     "name": "stdin",
     "output_type": "stream",
     "text": [
      "Enter the number 17\n"
     ]
    },
    {
     "name": "stdout",
     "output_type": "stream",
     "text": [
      "Not a perfect\n"
     ]
    }
   ],
   "source": [
    "import math\n",
    "number=int(input(\"Enter the number\"))\n",
    "if math.sqrt(number).is_integer():\n",
    "    print(\"Pefect Sqaure\")\n",
    "else:\n",
    "    print(\"Not a perfect\")"
   ]
  },
  {
   "cell_type": "code",
   "execution_count": null,
   "id": "34b8d553-37af-4718-9528-befa5aefe881",
   "metadata": {},
   "outputs": [],
   "source": []
  },
  {
   "cell_type": "code",
   "execution_count": 37,
   "id": "2a9905fb-b9dd-45e3-812b-6b99a575f46f",
   "metadata": {},
   "outputs": [],
   "source": [
    "###21.Explain the purpose of the \"continue\" and \"break\" statements within if-else loops."
   ]
  },
  {
   "cell_type": "raw",
   "id": "9b8d0523-9e72-4305-98b0-26235c350c7b",
   "metadata": {},
   "source": [
    "Break statement stops the entire process of the loop.Break also terminates the remaining iterations.\n",
    "Continue doesn't terminate the next iterations; it resumes with the successive iterations.Continue statement only stops the current iteration of the loop."
   ]
  },
  {
   "cell_type": "code",
   "execution_count": 41,
   "id": "7d5a6c36-d8e2-4dc7-9891-a4fd9480f616",
   "metadata": {},
   "outputs": [
    {
     "name": "stdout",
     "output_type": "stream",
     "text": [
      "1\n",
      "2\n",
      "3\n"
     ]
    }
   ],
   "source": [
    "for i in range(1, 5): \n",
    "    if i == 4: \n",
    "        break\n",
    "    print(i)"
   ]
  },
  {
   "cell_type": "code",
   "execution_count": 35,
   "id": "6efa1f79-6abe-41c7-a50a-6dbedc0eb237",
   "metadata": {},
   "outputs": [
    {
     "name": "stdout",
     "output_type": "stream",
     "text": [
      "1 2 3 4 5 7 8 9 10 "
     ]
    }
   ],
   "source": [
    "for i in range(1, 11): \n",
    "    if i == 6: \n",
    "        continue\n",
    "    else: \n",
    "        print(i, end = \" \")"
   ]
  },
  {
   "cell_type": "code",
   "execution_count": 38,
   "id": "343a5d8d-f788-4cdf-a48d-84acf6651f8f",
   "metadata": {},
   "outputs": [],
   "source": [
    "##22.Create a Python program that calculates the BMI (Body Mass Index) of a person based on their weight and height using if-else."
   ]
  },
  {
   "cell_type": "code",
   "execution_count": 39,
   "id": "584453ac-a966-424e-927b-1867213e6ade",
   "metadata": {},
   "outputs": [
    {
     "name": "stdin",
     "output_type": "stream",
     "text": [
      "Enter the weight in kg 65\n",
      "Enter the height in meters 170\n"
     ]
    },
    {
     "name": "stdout",
     "output_type": "stream",
     "text": [
      "Underweight\n"
     ]
    }
   ],
   "source": [
    "weight = float(input(\"Enter the weight in kg\"));\n",
    "height = float(input(\"Enter the height in meters\"));\n",
    "bmi= float(weight)/(height)**2\n",
    "if bmi<18.5:\n",
    "    print(\"Underweight\")\n",
    "elif bmi>=18.5 and bmi<25:\n",
    "    print(\"Normal\")\n",
    "elif bmi>=25 and bmi<30:\n",
    "    print(\"Overweight\")\n",
    "else:\n",
    "    print(\"Obesity\")"
   ]
  },
  {
   "cell_type": "code",
   "execution_count": null,
   "id": "35a0b62a-1d5c-4f1f-a2b9-ae56b8a52eed",
   "metadata": {},
   "outputs": [],
   "source": []
  },
  {
   "cell_type": "code",
   "execution_count": 40,
   "id": "28e6d581-227a-4077-a70a-78473288c9b2",
   "metadata": {},
   "outputs": [],
   "source": [
    "##23.How can you use the \"filter()\" function with if-else statements to filter elements from a list?"
   ]
  },
  {
   "cell_type": "code",
   "execution_count": 42,
   "id": "9f5500f4-164c-4f1f-8e46-beed30fdecde",
   "metadata": {},
   "outputs": [
    {
     "name": "stdout",
     "output_type": "stream",
     "text": [
      "2\n",
      "4\n",
      "6\n",
      "8\n"
     ]
    }
   ],
   "source": [
    "lst1=[1,2,3,4,5,6,7,8,9]\n",
    "def even_num(n):\n",
    "    if n%2==0:\n",
    "        return True\n",
    "    else:\n",
    "        return False\n",
    "even=filter(even_num,lst1)\n",
    "for i in even:\n",
    "    print(i)"
   ]
  },
  {
   "cell_type": "code",
   "execution_count": null,
   "id": "49c1aab9-630d-46ee-bbb9-eea4e64eb814",
   "metadata": {},
   "outputs": [],
   "source": []
  },
  {
   "cell_type": "code",
   "execution_count": 41,
   "id": "d4f4b64a-16ab-4849-8dda-4eb2b5836e00",
   "metadata": {},
   "outputs": [],
   "source": [
    "###24.Write a Python program to determine if a given number is prime or not using if-else."
   ]
  },
  {
   "cell_type": "code",
   "execution_count": 42,
   "id": "bb5c7720-6f63-4820-b403-4fb178bf356a",
   "metadata": {},
   "outputs": [
    {
     "name": "stdin",
     "output_type": "stream",
     "text": [
      "Enter the Number 6\n"
     ]
    },
    {
     "name": "stdout",
     "output_type": "stream",
     "text": [
      "6 is not a prime number\n"
     ]
    }
   ],
   "source": [
    "number=int(input(\"Enter the Number\"))\n",
    "if number > 1:\n",
    "    for i in range(2, number):\n",
    "        if (number % i) == 0:\n",
    "            print(number, \"is not a prime number\")\n",
    "            break\n",
    "    else:\n",
    "        print(number, \"is a prime number\")\n",
    "else:\n",
    "    print(number, \"is not a prime number\")"
   ]
  },
  {
   "cell_type": "code",
   "execution_count": null,
   "id": "e5654107-8180-4031-8657-e344d7308d3e",
   "metadata": {},
   "outputs": [],
   "source": []
  },
  {
   "cell_type": "markdown",
   "id": "8f085b27-1eb6-4e7f-80db-bef2dd152ab4",
   "metadata": {
    "tags": []
   },
   "source": [
    "## MAP ##"
   ]
  },
  {
   "cell_type": "code",
   "execution_count": 43,
   "id": "bd645763-9056-4a7a-945d-7ba04ee93a89",
   "metadata": {},
   "outputs": [],
   "source": [
    "##1.Explain the purpose of the `map()` function in Python and provide an example of how it can be used to apply a function to each element of an iterable."
   ]
  },
  {
   "cell_type": "markdown",
   "id": "78235f26-f7ee-4a68-bae7-29c45f5085ca",
   "metadata": {},
   "source": [
    "map function is used when we wanna to apply any function to all elements of list,tuple etc"
   ]
  },
  {
   "cell_type": "code",
   "execution_count": 43,
   "id": "7a0140ad-fd58-4c8e-9a61-c9c3631d0dd0",
   "metadata": {},
   "outputs": [
    {
     "name": "stdout",
     "output_type": "stream",
     "text": [
      "Original List:  [4, 5, 2, 9]\n",
      "Square the elements of the said list using map():\n",
      "[16, 25, 4, 81]\n"
     ]
    }
   ],
   "source": [
    "def square_num(n):\n",
    "    return n * n\n",
    "\n",
    "nums = [4, 5, 2, 9]\n",
    "print(\"Original List: \", nums)\n",
    "result = map(square_num, nums)\n",
    "print(\"Square the elements of the said list using map():\")\n",
    "print(list(result))"
   ]
  },
  {
   "cell_type": "code",
   "execution_count": null,
   "id": "306ae46c-2c8f-447b-a9e6-d8b2011f0c8e",
   "metadata": {},
   "outputs": [],
   "source": []
  },
  {
   "cell_type": "code",
   "execution_count": 44,
   "id": "1949bda8-6a44-4769-98a8-971ca401f91e",
   "metadata": {},
   "outputs": [],
   "source": [
    "##2.Write a Python program that uses the `map()` function to square each element of a list of numbers."
   ]
  },
  {
   "cell_type": "code",
   "execution_count": 45,
   "id": "d12af817-98fd-4604-9650-7bd0212a7e5b",
   "metadata": {},
   "outputs": [
    {
     "name": "stdout",
     "output_type": "stream",
     "text": [
      "Original List:  [4, 5, 2, 9]\n",
      "Square the elements of the said list using map():\n",
      "[16, 25, 4, 81]\n"
     ]
    }
   ],
   "source": [
    "def square_num(n):\n",
    "    return n * n\n",
    "\n",
    "nums = [4, 5, 2, 9]\n",
    "print(\"Original List: \", nums)\n",
    "result = map(square_num, nums)\n",
    "print(\"Square the elements of the said list using map():\")\n",
    "print(list(result))"
   ]
  },
  {
   "cell_type": "code",
   "execution_count": null,
   "id": "7677edd1-9945-4b6b-8dfa-1083da1278a7",
   "metadata": {},
   "outputs": [],
   "source": []
  },
  {
   "cell_type": "code",
   "execution_count": 46,
   "id": "1b65f9ce-c19c-4c74-8d68-3f062b277eee",
   "metadata": {},
   "outputs": [],
   "source": [
    "##3.How does the `map()` function differ from a list comprehension in Python, and when would you choose one over the other?"
   ]
  },
  {
   "cell_type": "raw",
   "id": "2cdb5808-1473-44cd-84b6-ad1c2059c59e",
   "metadata": {},
   "source": [
    "in map function, we can not apply any filter while in list comprehension we can filter data."
   ]
  },
  {
   "cell_type": "code",
   "execution_count": 45,
   "id": "f147f862-371a-4af9-b8b8-2576f34d1be8",
   "metadata": {},
   "outputs": [
    {
     "data": {
      "text/plain": [
       "[0, 2, 4, 6, 8]"
      ]
     },
     "execution_count": 45,
     "metadata": {},
     "output_type": "execute_result"
    }
   ],
   "source": [
    "[n for n in range(10) if n%2 == 0]"
   ]
  },
  {
   "cell_type": "code",
   "execution_count": 47,
   "id": "10cc7f2f-61cd-4ebd-813d-a2df3c30d836",
   "metadata": {},
   "outputs": [],
   "source": [
    "##4.Create a Python program that uses the `map()` function to convert a list of names to uppercase."
   ]
  },
  {
   "cell_type": "code",
   "execution_count": 48,
   "id": "f95f0bd0-effb-4a2d-90be-d2c2728b56ea",
   "metadata": {},
   "outputs": [
    {
     "name": "stdout",
     "output_type": "stream",
     "text": [
      "['SHIVANK', 'GUPTA', 'AKASH', 'GUPTA']\n"
     ]
    }
   ],
   "source": [
    "def upper(string):\n",
    "    return str.upper(string)\n",
    "\n",
    "names=['shivank','gupta','akash','gupta']\n",
    "result=map(upper,names)\n",
    "print(list(result))"
   ]
  },
  {
   "cell_type": "code",
   "execution_count": null,
   "id": "be85c3b0-ebd8-4b72-8d12-5511af9d5d1e",
   "metadata": {},
   "outputs": [],
   "source": []
  },
  {
   "cell_type": "code",
   "execution_count": 49,
   "id": "123e8773-aaf4-4fd8-a531-beb4e48f8e3b",
   "metadata": {},
   "outputs": [],
   "source": [
    "##5.Write a Python program that uses the `map()` function to calculate the length of each word in a list of strings."
   ]
  },
  {
   "cell_type": "code",
   "execution_count": 50,
   "id": "be8c42fa-5e5f-437d-8da7-199920d82901",
   "metadata": {},
   "outputs": [
    {
     "name": "stdout",
     "output_type": "stream",
     "text": [
      "[7, 5, 5, 5]\n"
     ]
    }
   ],
   "source": [
    "def length(string):\n",
    "    return len(string)\n",
    "\n",
    "names=['shivank','gupta','akash','gupta']\n",
    "result=map(length,names)\n",
    "print(list(result))\n"
   ]
  },
  {
   "cell_type": "code",
   "execution_count": null,
   "id": "f6032be4-dc9b-4dad-8d9e-b11742008505",
   "metadata": {},
   "outputs": [],
   "source": []
  },
  {
   "cell_type": "code",
   "execution_count": 51,
   "id": "3f664cb8-684b-4b99-a580-b3c580555d4a",
   "metadata": {},
   "outputs": [],
   "source": [
    "##6.How can you use the `map()` function to apply a custom function to elements of multiple lists simultaneously in Python?"
   ]
  },
  {
   "cell_type": "code",
   "execution_count": 47,
   "id": "1f85cf67-fdaf-4dd5-b0e4-e8fcae9f5b02",
   "metadata": {},
   "outputs": [
    {
     "name": "stdout",
     "output_type": "stream",
     "text": [
      "Original List:  [4, 5, 2, 9]\n",
      "Square the elements of the said list using map():\n",
      "[16, 25, 4, 81]\n"
     ]
    }
   ],
   "source": [
    "def square_num(n):\n",
    "    return n * n\n",
    "\n",
    "nums = [4, 5, 2, 9]\n",
    "print(\"Original List: \", nums)\n",
    "result = map(square_num, nums)\n",
    "print(\"Square the elements of the said list using map():\")\n",
    "print(list(result))"
   ]
  },
  {
   "cell_type": "code",
   "execution_count": 52,
   "id": "0daf07fe-cf25-457e-9b3f-bd798bde01ae",
   "metadata": {},
   "outputs": [],
   "source": [
    "##7.Create a Python program that uses `map()` to convert a list of temperatures from Celsius to Fahrenheit."
   ]
  },
  {
   "cell_type": "code",
   "execution_count": 55,
   "id": "bb8895a7-9843-4132-be47-ff95bb44a317",
   "metadata": {},
   "outputs": [
    {
     "name": "stdout",
     "output_type": "stream",
     "text": [
      "[172.4, 87.8, 91.03999999999999, 132.8, 172.94]\n"
     ]
    }
   ],
   "source": [
    "def temparature(C):\n",
    "    return ((C*9)/5)+32\n",
    "\n",
    "temp=[78,31,32.8,56,78.3]\n",
    "result=map(temparature,temp)\n",
    "print(list(result))\n"
   ]
  },
  {
   "cell_type": "code",
   "execution_count": null,
   "id": "3f42fdf6-035b-4c6f-9b1a-4157ce285925",
   "metadata": {},
   "outputs": [],
   "source": []
  },
  {
   "cell_type": "code",
   "execution_count": 56,
   "id": "a43526a7-2aeb-42b5-8440-324ce3876de4",
   "metadata": {},
   "outputs": [],
   "source": [
    "##8.Write a Python program that uses the `map()` function to round each element of a list of floating-point numbers to the nearest integer."
   ]
  },
  {
   "cell_type": "code",
   "execution_count": 50,
   "id": "fd8edc18-a9c6-4d61-8528-8bbcc53a8b16",
   "metadata": {},
   "outputs": [
    {
     "name": "stdout",
     "output_type": "stream",
     "text": [
      "[78, 31, 33, 56, 78]\n"
     ]
    }
   ],
   "source": [
    "def round_near(n):\n",
    "    return round(n)\n",
    "\n",
    "lst1=[78,31,32.8,56,78.3]\n",
    "result=map(round_near,lst1)\n",
    "print(list(result))"
   ]
  },
  {
   "cell_type": "code",
   "execution_count": null,
   "id": "ba39cf08-1fe7-4c65-8f2e-34e404401174",
   "metadata": {},
   "outputs": [],
   "source": []
  },
  {
   "cell_type": "markdown",
   "id": "7627f8d4-e688-4bfb-9245-cf51047416c0",
   "metadata": {},
   "source": [
    "## Filter ##"
   ]
  },
  {
   "cell_type": "code",
   "execution_count": 63,
   "id": "80a320c1-0f5a-4824-837f-c5783c9a15ab",
   "metadata": {},
   "outputs": [],
   "source": [
    "##1.Explain the purpose of the `reduce()` function in Python and provide an example of how it can be used to filter elements from an iterable."
   ]
  },
  {
   "cell_type": "code",
   "execution_count": 55,
   "id": "8c1c40fa-5696-4a23-80d9-2cfc5d5feeb4",
   "metadata": {},
   "outputs": [
    {
     "name": "stdout",
     "output_type": "stream",
     "text": [
      "120\n"
     ]
    }
   ],
   "source": [
    "from functools import reduce \n",
    "list1 = [1, 2, 3, 4, 5]\n",
    "print(reduce((lambda a, b: a*b), list1)) "
   ]
  },
  {
   "cell_type": "code",
   "execution_count": null,
   "id": "c3f21c61-7d5b-4726-8520-849c858a18c9",
   "metadata": {},
   "outputs": [],
   "source": []
  },
  {
   "cell_type": "code",
   "execution_count": 66,
   "id": "8397e2c2-4f92-4a46-bf53-abf6b1719728",
   "metadata": {},
   "outputs": [],
   "source": [
    "##2.Write a Python program that uses the `reduce()` function to find the product of all elements in a list."
   ]
  },
  {
   "cell_type": "code",
   "execution_count": 14,
   "id": "e54b2eec-733e-4fdc-9738-afc11171f26a",
   "metadata": {},
   "outputs": [
    {
     "name": "stdout",
     "output_type": "stream",
     "text": [
      "120\n"
     ]
    }
   ],
   "source": [
    "from functools import reduce \n",
    "list1 = [1, 2, 3, 4, 5]\n",
    "print(reduce((lambda a, b: a*b), list1)) "
   ]
  },
  {
   "cell_type": "code",
   "execution_count": null,
   "id": "8e00d925-47c7-42d8-8f42-e87ca0e9c64a",
   "metadata": {},
   "outputs": [],
   "source": []
  },
  {
   "cell_type": "code",
   "execution_count": 63,
   "id": "58a7a447-9d23-4f41-ac18-bc81bfb94da2",
   "metadata": {},
   "outputs": [],
   "source": [
    "##3.Create a Python program that uses `reduce()` to find the maximum element in a list of numbers."
   ]
  },
  {
   "cell_type": "code",
   "execution_count": 1,
   "id": "672add44-457d-4050-9937-14686be3f541",
   "metadata": {},
   "outputs": [
    {
     "name": "stdout",
     "output_type": "stream",
     "text": [
      "5\n"
     ]
    }
   ],
   "source": [
    "from functools import reduce \n",
    "list1 = [1, 2, 3, 4, 5]\n",
    "\n",
    "print(reduce(max,list1))"
   ]
  },
  {
   "cell_type": "code",
   "execution_count": null,
   "id": "5c11c185-9b56-4140-bbc6-95ff6510aa28",
   "metadata": {},
   "outputs": [],
   "source": []
  },
  {
   "cell_type": "code",
   "execution_count": 15,
   "id": "8b5e78d9-9737-4d1c-9b89-eee353c34e12",
   "metadata": {},
   "outputs": [],
   "source": [
    "##4.How can you use the `reduce()` function to concatenate a list of strings into a single string?"
   ]
  },
  {
   "cell_type": "code",
   "execution_count": 62,
   "id": "8cf75e7a-af13-4833-a60d-a9341e884f7f",
   "metadata": {},
   "outputs": [
    {
     "name": "stdout",
     "output_type": "stream",
     "text": [
      "apple,banana,orange,grape\n"
     ]
    }
   ],
   "source": [
    "from functools import reduce\n",
    "fruits = ['apple', 'banana', 'orange', 'grape']\n",
    "def concatenate(str1, str2):\n",
    "    return str1 + \",\" + str2\n",
    "\n",
    "result = reduce(concatenate,fruits)\n",
    "\n",
    "print(result)"
   ]
  },
  {
   "cell_type": "code",
   "execution_count": 16,
   "id": "721cf36e-c167-437f-b366-d45b865d3287",
   "metadata": {},
   "outputs": [],
   "source": [
    "##5.Write a Python program that calculates the factorial of a number using the `reduce()` function."
   ]
  },
  {
   "cell_type": "code",
   "execution_count": 21,
   "id": "7f108831-5979-4529-a4d2-091859d64e37",
   "metadata": {},
   "outputs": [
    {
     "name": "stdin",
     "output_type": "stream",
     "text": [
      "Enter a number 5\n"
     ]
    },
    {
     "name": "stdout",
     "output_type": "stream",
     "text": [
      "120\n"
     ]
    }
   ],
   "source": [
    "\n",
    "number=int(input(\"Enter a number\"))\n",
    "print(reduce(lambda a,b:a*b,range(1,number+1)))"
   ]
  },
  {
   "cell_type": "code",
   "execution_count": null,
   "id": "0f222c0b-b47a-4093-a60f-61b5c37625b6",
   "metadata": {},
   "outputs": [],
   "source": []
  },
  {
   "cell_type": "code",
   "execution_count": 22,
   "id": "2bee116b-4415-48d0-b095-adee94e7697d",
   "metadata": {},
   "outputs": [],
   "source": [
    "##6.Create a Python program that uses `reduce()` to find the GCD (Greatest Common Divisor) of a list of numbers."
   ]
  },
  {
   "cell_type": "code",
   "execution_count": 30,
   "id": "008ab274-7e7b-40de-bd2c-f1483a87a199",
   "metadata": {},
   "outputs": [
    {
     "name": "stdout",
     "output_type": "stream",
     "text": [
      "4\n"
     ]
    }
   ],
   "source": [
    "list1 = [16, 12, 32, 40, 24]\n",
    "GCD = lambda a,b : a if b==0 else GCD (b,a%b)\n",
    "print(reduce(lambda x,y:GCD(x,y),list1)) "
   ]
  },
  {
   "cell_type": "code",
   "execution_count": null,
   "id": "bac728b2-ad86-4e0a-a6f1-2f0e2b136835",
   "metadata": {},
   "outputs": [],
   "source": []
  },
  {
   "cell_type": "code",
   "execution_count": 31,
   "id": "55612cc7-d6ab-467c-b149-9fa6c8580c26",
   "metadata": {},
   "outputs": [],
   "source": [
    "##7.Write a Python program that uses the `reduce()` function to find the sum of the digits of a given number."
   ]
  },
  {
   "cell_type": "code",
   "execution_count": 5,
   "id": "910c3ed6-c5d2-449b-a474-34943646e479",
   "metadata": {},
   "outputs": [
    {
     "name": "stdin",
     "output_type": "stream",
     "text": [
      "Enter a number 678\n"
     ]
    },
    {
     "name": "stdout",
     "output_type": "stream",
     "text": [
      "21\n"
     ]
    }
   ],
   "source": [
    "from functools import reduce\n",
    "number=str(input(\"Enter a number\"))\n",
    "print(reduce(lambda x, y: (int(x) + int(y)),number))\n",
    "    "
   ]
  },
  {
   "cell_type": "code",
   "execution_count": null,
   "id": "2f367a63-f08a-4c25-a1b9-39a01350b51a",
   "metadata": {},
   "outputs": [],
   "source": []
  },
  {
   "cell_type": "code",
   "execution_count": null,
   "id": "3e85d0d2-d134-48e8-b3ed-b2570d613b26",
   "metadata": {},
   "outputs": [],
   "source": []
  },
  {
   "cell_type": "markdown",
   "id": "6f40b97c-ba67-44b1-98d5-eb4dc9fef677",
   "metadata": {},
   "source": [
    "### Filter ###"
   ]
  },
  {
   "cell_type": "code",
   "execution_count": 38,
   "id": "e27c969d-c058-4cca-afa0-e50abef07cbd",
   "metadata": {},
   "outputs": [],
   "source": [
    "##1.Explain the purpose of the `filter()` function in Python and provide an example of how it can be used to filter elements from an iterable."
   ]
  },
  {
   "cell_type": "raw",
   "id": "5d64003c-dd3b-4471-bedc-85e6e257a854",
   "metadata": {},
   "source": [
    "The filter() function returns an iterator where the items are filtered through a function(condition) to test if the item satisfies the condition or not."
   ]
  },
  {
   "cell_type": "code",
   "execution_count": 7,
   "id": "ef7c6f18-ff0a-4881-86da-f77adedb69ef",
   "metadata": {},
   "outputs": [
    {
     "name": "stdout",
     "output_type": "stream",
     "text": [
      "18\n",
      "24\n",
      "32\n"
     ]
    }
   ],
   "source": [
    "ages = [5, 12, 17, 18, 24, 32]\n",
    "\n",
    "def age(x):\n",
    "    if x < 18:\n",
    "        return False\n",
    "    else:\n",
    "        return True\n",
    "\n",
    "adult = filter(age, ages)\n",
    "\n",
    "for i in adult:\n",
    "    print(i)"
   ]
  },
  {
   "cell_type": "code",
   "execution_count": 39,
   "id": "85f0b99a-e3c9-49f1-b50e-a3504ad39b2f",
   "metadata": {},
   "outputs": [],
   "source": [
    "##2.Write a Python program that uses the `filter()` function to select even numbers from a list of integers."
   ]
  },
  {
   "cell_type": "code",
   "execution_count": 2,
   "id": "a3b32168-b476-4079-8a01-cefeb176be1c",
   "metadata": {},
   "outputs": [
    {
     "name": "stdout",
     "output_type": "stream",
     "text": [
      "2\n",
      "4\n",
      "6\n",
      "8\n"
     ]
    }
   ],
   "source": [
    "lst1=[1,2,3,4,5,6,7,8,9]\n",
    "def even_num(n):\n",
    "    if n%2==0:\n",
    "        return True\n",
    "    else:\n",
    "        return False\n",
    "even=filter(even_num,lst1)\n",
    "for i in even:\n",
    "    print(i)"
   ]
  },
  {
   "cell_type": "code",
   "execution_count": null,
   "id": "3c0394f3-a87e-4ed3-ae21-03197c26e8a9",
   "metadata": {},
   "outputs": [],
   "source": []
  },
  {
   "cell_type": "code",
   "execution_count": 3,
   "id": "b85cc13d-d47a-4339-aff1-8e829da80cd9",
   "metadata": {},
   "outputs": [],
   "source": [
    "##3.Create a Python program that uses the `filter()` function to select names that start with a specific letter from a list of strings."
   ]
  },
  {
   "cell_type": "code",
   "execution_count": 24,
   "id": "ae1f422c-c8a1-4f0b-a530-f8fe27f6cb18",
   "metadata": {},
   "outputs": [
    {
     "name": "stdout",
     "output_type": "stream",
     "text": [
      "My\n",
      "Mayank\n"
     ]
    }
   ],
   "source": [
    "strings=\"My name is Mayank\"\n",
    "x=list(strings.split(\" \"))\n",
    "def filter_a(string):\n",
    "    if string[0]=='m' or string[0]=='M':\n",
    "        return True\n",
    "    else:\n",
    "        return False\n",
    "filter_string=filter(filter_a,x)\n",
    "for i in filter_string:\n",
    "    print(i)"
   ]
  },
  {
   "cell_type": "code",
   "execution_count": 22,
   "id": "7a6ffe44-9c28-4723-a258-a2ddac0e3d4a",
   "metadata": {},
   "outputs": [],
   "source": []
  },
  {
   "cell_type": "code",
   "execution_count": 25,
   "id": "8f85dd44-5abf-482b-a773-2873162e8a7a",
   "metadata": {},
   "outputs": [],
   "source": [
    "##4.Write a Python program that uses the `filter()` function to select prime numbers from a list of integers."
   ]
  },
  {
   "cell_type": "code",
   "execution_count": 107,
   "id": "62700d4b-939f-47ab-a589-dcae1628c0a1",
   "metadata": {},
   "outputs": [],
   "source": [
    "list1=[1,2,3,4,5,6,7,8,9,10,11,12,13,15,23,29]\n",
    "def prime_num(n):\n",
    "    if n > 1:\n",
    "        for i in range(2, n):\n",
    "            if (n % i) == 0:\n",
    "                return False\n",
    "                break\n",
    "            else:\n",
    "                return True"
   ]
  },
  {
   "cell_type": "code",
   "execution_count": 109,
   "id": "b4e1a583-f01c-4eec-ad11-792643dd356a",
   "metadata": {},
   "outputs": [
    {
     "data": {
      "text/plain": [
       "True"
      ]
     },
     "execution_count": 109,
     "metadata": {},
     "output_type": "execute_result"
    }
   ],
   "source": [
    "prime_num(15)"
   ]
  },
  {
   "cell_type": "code",
   "execution_count": 110,
   "id": "c600b2b5-e200-415d-ac1a-f2b1f4e1e92f",
   "metadata": {},
   "outputs": [],
   "source": [
    "##5.How can you use the `filter()` function to remove None values from a list in Python?"
   ]
  },
  {
   "cell_type": "code",
   "execution_count": 8,
   "id": "9f822581-d961-41ec-b052-1b9a28bbb942",
   "metadata": {},
   "outputs": [
    {
     "name": "stdout",
     "output_type": "stream",
     "text": [
      "[1, 'Hello', [1, 2, 3], 0.1, True]\n"
     ]
    }
   ],
   "source": [
    "random_list = [0, 1, 'Hello', '', [], [1,2,3], 0.1, 0.0,False , True]\n",
    "print(list(filter(None, random_list)))"
   ]
  },
  {
   "cell_type": "code",
   "execution_count": 111,
   "id": "177149b4-ba76-46cd-9aaf-836f0123e35d",
   "metadata": {},
   "outputs": [],
   "source": [
    "##6.Create a Python program that uses `filter()` to select words longer than a certain length from a list of strings."
   ]
  },
  {
   "cell_type": "code",
   "execution_count": 112,
   "id": "356f1b93-bd9a-4086-a282-ee9be76dbad8",
   "metadata": {},
   "outputs": [
    {
     "name": "stdout",
     "output_type": "stream",
     "text": [
      "Mayank\n"
     ]
    }
   ],
   "source": [
    "strings=\"My name is Mayank\"\n",
    "x=list(strings.split(\" \"))\n",
    "def filter_a(string):\n",
    "    if len(string)>5:\n",
    "        return True\n",
    "    else:\n",
    "        return False\n",
    "filter_string=filter(filter_a,x)\n",
    "for i in filter_string:\n",
    "    print(i)"
   ]
  },
  {
   "cell_type": "code",
   "execution_count": 113,
   "id": "d1335f92-8804-4044-9bc6-97903dfd6759",
   "metadata": {},
   "outputs": [],
   "source": [
    "##7.Write a Python program that uses the `filter()` function to select elements greater than a specified threshold from a list of values."
   ]
  },
  {
   "cell_type": "code",
   "execution_count": 116,
   "id": "d1b55e70-174e-4354-8bde-a2ea552a4768",
   "metadata": {},
   "outputs": [
    {
     "name": "stdout",
     "output_type": "stream",
     "text": [
      "13\n",
      "15\n",
      "23\n",
      "29\n"
     ]
    }
   ],
   "source": [
    "list1=[1,2,3,4,5,6,7,8,9,10,11,12,13,15,23,29]\n",
    "def filter_a(n):\n",
    "    if n>12:\n",
    "        return True\n",
    "    else:\n",
    "        return False\n",
    "filter_list=filter(filter_a,list1)\n",
    "for i in filter_list:\n",
    "    print(i)"
   ]
  },
  {
   "cell_type": "code",
   "execution_count": null,
   "id": "2e2bea55-665b-4e5d-adb8-6916472c9248",
   "metadata": {},
   "outputs": [],
   "source": []
  },
  {
   "cell_type": "markdown",
   "id": "0dfdaa4d-b05c-473a-bf25-2dab220d7e5c",
   "metadata": {},
   "source": [
    "## Recursion ##"
   ]
  },
  {
   "cell_type": "code",
   "execution_count": 117,
   "id": "ba257600-cac0-48a9-b9c4-c8fa118c2c3c",
   "metadata": {},
   "outputs": [],
   "source": [
    "##1.Explain the concept of recursion in Python. How does it differ from iteration?"
   ]
  },
  {
   "cell_type": "raw",
   "id": "76fc3e44-8c33-48a5-9ba0-2386231797c0",
   "metadata": {},
   "source": [
    "function Recursion where a function can call itself & in iteration a block of code will execute itself till the condition is true."
   ]
  },
  {
   "cell_type": "code",
   "execution_count": 118,
   "id": "687db5cb-20c3-4634-a7f5-c0ae2c02e89e",
   "metadata": {},
   "outputs": [],
   "source": [
    "##2.Write a Python program to calculate the factorial of a number using recursion."
   ]
  },
  {
   "cell_type": "code",
   "execution_count": 122,
   "id": "b1229e84-7d51-415e-aefa-6ce289e8e1ed",
   "metadata": {},
   "outputs": [],
   "source": [
    "def fact(n):\n",
    "    if n==1:\n",
    "        return 1\n",
    "    else:\n",
    "        return n*fact(n-1)"
   ]
  },
  {
   "cell_type": "code",
   "execution_count": 124,
   "id": "1f66ec61-67b6-4188-885b-e86ea892dbc0",
   "metadata": {},
   "outputs": [
    {
     "data": {
      "text/plain": [
       "120"
      ]
     },
     "execution_count": 124,
     "metadata": {},
     "output_type": "execute_result"
    }
   ],
   "source": [
    "fact(5)"
   ]
  },
  {
   "cell_type": "code",
   "execution_count": null,
   "id": "4eb62fde-5c67-4191-9671-cbdadd71ebbe",
   "metadata": {},
   "outputs": [],
   "source": []
  },
  {
   "cell_type": "code",
   "execution_count": 125,
   "id": "9aa7771e-d900-415e-8fc8-bd6c68bb5fb0",
   "metadata": {},
   "outputs": [],
   "source": [
    "##3.Create a recursive Python function to find the nth Fibonacci number."
   ]
  },
  {
   "cell_type": "code",
   "execution_count": 127,
   "id": "15dd6b0e-c110-4a87-96eb-487a4ba2e87d",
   "metadata": {},
   "outputs": [],
   "source": [
    "def fibo(n):\n",
    "        if n<=1:\n",
    "            return n\n",
    "        else:\n",
    "            return fibo(n-1)+fibo(n-2)\n",
    "    "
   ]
  },
  {
   "cell_type": "code",
   "execution_count": 128,
   "id": "94259b40-3809-40b3-bd3c-7cb39e0026f1",
   "metadata": {},
   "outputs": [
    {
     "data": {
      "text/plain": [
       "8"
      ]
     },
     "execution_count": 128,
     "metadata": {},
     "output_type": "execute_result"
    }
   ],
   "source": [
    "fibo(6)"
   ]
  },
  {
   "cell_type": "code",
   "execution_count": 129,
   "id": "edea3007-c323-4edd-8617-ee15bc356f3f",
   "metadata": {},
   "outputs": [],
   "source": [
    "##4.Write a recursive Python function to calculate the sum of all elements in a list."
   ]
  },
  {
   "cell_type": "code",
   "execution_count": 148,
   "id": "63066100-ab86-4b58-a98d-8b1917653c35",
   "metadata": {},
   "outputs": [],
   "source": [
    "def add(l):\n",
    "        if len(l)==1:\n",
    "            return l[0]\n",
    "        else:\n",
    "            return l[0]+add(l[1:])"
   ]
  },
  {
   "cell_type": "code",
   "execution_count": 149,
   "id": "4ee37659-d9d0-4e7f-b125-b5911d48b0f7",
   "metadata": {},
   "outputs": [
    {
     "data": {
      "text/plain": [
       "28"
      ]
     },
     "execution_count": 149,
     "metadata": {},
     "output_type": "execute_result"
    }
   ],
   "source": [
    "add([1,2,3,4,5,6,7])"
   ]
  },
  {
   "cell_type": "code",
   "execution_count": null,
   "id": "5524f28a-f2ae-4883-99b1-bf4d09ea9a11",
   "metadata": {},
   "outputs": [],
   "source": []
  },
  {
   "cell_type": "code",
   "execution_count": 150,
   "id": "272e4af5-f582-4361-9d3b-790a9a0c930f",
   "metadata": {},
   "outputs": [],
   "source": [
    "##5.How can you prevent a recursive function from running indefinitely, causing a stack overflow error?"
   ]
  },
  {
   "cell_type": "raw",
   "id": "fcb9634e-8f2b-4290-bc22-f4a7e1928821",
   "metadata": {},
   "source": [
    "To prevent a recursive function running indefinitely , we need to set a base case. Base case should be feasible & approachable."
   ]
  },
  {
   "cell_type": "code",
   "execution_count": null,
   "id": "05d3ff42-750f-428a-8b35-21eda73a8b83",
   "metadata": {},
   "outputs": [],
   "source": []
  },
  {
   "cell_type": "code",
   "execution_count": 151,
   "id": "cbb7e86c-219f-48da-a530-8d74492c9816",
   "metadata": {},
   "outputs": [],
   "source": [
    "###6.Create a recursive Python function to find the greatest common divisor (GCD) of two numbers using the Euclidean algorithm."
   ]
  },
  {
   "cell_type": "code",
   "execution_count": 154,
   "id": "2edce413-99a0-45f0-914e-7c44e4141c02",
   "metadata": {},
   "outputs": [
    {
     "name": "stdin",
     "output_type": "stream",
     "text": [
      "Enter first number: 7\n",
      "Enter second number: 14\n"
     ]
    },
    {
     "name": "stdout",
     "output_type": "stream",
     "text": [
      "GCD is:  7\n"
     ]
    }
   ],
   "source": [
    "def gcd(a,b):\n",
    "    if(b==0):\n",
    "        return a\n",
    "    else:\n",
    "        return gcd(b,a%b)\n",
    "a=int(input(\"Enter first number:\"))\n",
    "b=int(input(\"Enter second number:\"))\n",
    "GCD=gcd(a,b)\n",
    "print(\"GCD is: \",GCD)"
   ]
  },
  {
   "cell_type": "code",
   "execution_count": null,
   "id": "aac8a947-7e24-4d45-9f98-37bd93b86e80",
   "metadata": {},
   "outputs": [],
   "source": []
  },
  {
   "cell_type": "code",
   "execution_count": 155,
   "id": "4aab31ee-b4a3-47ca-8372-be9878ac59cd",
   "metadata": {},
   "outputs": [],
   "source": [
    "##7.Write a recursive Python function to reverse a string"
   ]
  },
  {
   "cell_type": "code",
   "execution_count": 162,
   "id": "91592e01-4ffb-456e-9b86-b0d6f1534ad2",
   "metadata": {},
   "outputs": [],
   "source": [
    "def reverse(l):\n",
    "    if len(l)==1:\n",
    "        return l\n",
    "    else:\n",
    "        return reverse(l[1:])+l[0]"
   ]
  },
  {
   "cell_type": "code",
   "execution_count": 163,
   "id": "bffe1bb3-2579-41d8-8f00-03e51b406f00",
   "metadata": {},
   "outputs": [
    {
     "data": {
      "text/plain": [
       "'knavihs'"
      ]
     },
     "execution_count": 163,
     "metadata": {},
     "output_type": "execute_result"
    }
   ],
   "source": [
    "reverse(\"shivank\")"
   ]
  },
  {
   "cell_type": "code",
   "execution_count": null,
   "id": "cb33d424-6c76-44d8-b20f-dd603c68956f",
   "metadata": {},
   "outputs": [],
   "source": []
  },
  {
   "cell_type": "code",
   "execution_count": 164,
   "id": "5f358561-f527-4eb4-a1a0-22cef0b38063",
   "metadata": {},
   "outputs": [],
   "source": [
    "##8.Create a recursive Python function to calculate the power of a number (x^n)."
   ]
  },
  {
   "cell_type": "code",
   "execution_count": 179,
   "id": "435a1988-eaa3-4d92-9c81-50d0a14ae799",
   "metadata": {},
   "outputs": [],
   "source": [
    "a=15\n",
    "def power(n):\n",
    "    if  n==1:\n",
    "        return a\n",
    "    else:\n",
    "        return power(n-1)*a   "
   ]
  },
  {
   "cell_type": "code",
   "execution_count": 180,
   "id": "2f951b26-9233-4882-8bab-322283c2c643",
   "metadata": {},
   "outputs": [
    {
     "data": {
      "text/plain": [
       "225"
      ]
     },
     "execution_count": 180,
     "metadata": {},
     "output_type": "execute_result"
    }
   ],
   "source": [
    "power(2)"
   ]
  },
  {
   "cell_type": "code",
   "execution_count": null,
   "id": "0c125e47-d508-4a3e-872a-67afb2f905bc",
   "metadata": {},
   "outputs": [],
   "source": []
  },
  {
   "cell_type": "code",
   "execution_count": 181,
   "id": "7344e868-eb82-400d-8d7c-522ac9e53097",
   "metadata": {},
   "outputs": [],
   "source": [
    "##9.Write a recursive Python function to find all permutations of a given string."
   ]
  },
  {
   "cell_type": "code",
   "execution_count": 207,
   "id": "e924a741-947b-4b41-a2f7-f00d7108a922",
   "metadata": {},
   "outputs": [],
   "source": [
    "def Permutations(string):\n",
    "    if len(string) == 1:\n",
    "        return [string]\n",
    "    permutations = []\n",
    "    for i in range(len(string)):\n",
    "        firstCharacter = string[i]\n",
    "        remainingCharacters = string[:i] + string[i + 1:]\n",
    "        permutationsOfRemainingCharacters = Permutations(remainingCharacters)\n",
    "        for j in permutationsOfRemainingCharacters:\n",
    "            permutations.append(firstCharacter + j)\n",
    "    return permutations"
   ]
  },
  {
   "cell_type": "code",
   "execution_count": 208,
   "id": "f1bf77b8-073b-4768-90d9-836673cb970d",
   "metadata": {},
   "outputs": [
    {
     "data": {
      "text/plain": [
       "['ABC', 'ACB', 'BAC', 'BCA', 'CAB', 'CBA']"
      ]
     },
     "execution_count": 208,
     "metadata": {},
     "output_type": "execute_result"
    }
   ],
   "source": [
    "S='ABC'\n",
    "Permutations(S)"
   ]
  },
  {
   "cell_type": "code",
   "execution_count": null,
   "id": "250d1326-31ec-4aa2-8fa9-adcee9a46138",
   "metadata": {},
   "outputs": [],
   "source": []
  },
  {
   "cell_type": "code",
   "execution_count": 209,
   "id": "af41dccf-256c-4a54-9c15-bd90f4d7efcc",
   "metadata": {},
   "outputs": [],
   "source": [
    "##10.Write a recursive Python function to check if a string is a palindrome."
   ]
  },
  {
   "cell_type": "code",
   "execution_count": 216,
   "id": "8459ea43-a577-4ea2-830c-f49481c7e57d",
   "metadata": {},
   "outputs": [
    {
     "name": "stdin",
     "output_type": "stream",
     "text": [
      "Enter string: shivank\n"
     ]
    },
    {
     "name": "stdout",
     "output_type": "stream",
     "text": [
      "String isn't a palindrome!\n"
     ]
    }
   ],
   "source": [
    "def palindrome(s):\n",
    "    if len(s) < 1:\n",
    "        return True\n",
    "    else:\n",
    "        if s[0] == s[-1]:\n",
    "            return palindrome(s[1:-1])\n",
    "        else:\n",
    "            return False\n",
    "a=str(input(\"Enter string:\"))\n",
    "if(palindrome(a)==True):\n",
    "    print(\"String is a palindrome!\")\n",
    "else:\n",
    "    print(\"String isn't a palindrome!\")"
   ]
  },
  {
   "cell_type": "code",
   "execution_count": null,
   "id": "84dba019-07f4-40ca-bde2-25621cb25be6",
   "metadata": {},
   "outputs": [],
   "source": []
  },
  {
   "cell_type": "code",
   "execution_count": 217,
   "id": "9dd69d46-0250-46d5-99d9-6ad9cddf5da4",
   "metadata": {},
   "outputs": [],
   "source": [
    "##11.Create a recursive Python function to generate all possible combinations of a list of elements."
   ]
  },
  {
   "cell_type": "code",
   "execution_count": 7,
   "id": "6a139f59-38f3-4561-a7ce-e7e3d2102bfa",
   "metadata": {},
   "outputs": [
    {
     "name": "stdout",
     "output_type": "stream",
     "text": [
      "[[], [55], [46], [55, 46], [47], [55, 47], [46, 47], [55, 46, 47], [89], [55, 89], [46, 89], [55, 46, 89], [47, 89], [55, 47, 89], [46, 47, 89], [55, 46, 47, 89], [76], [55, 76], [46, 76], [55, 46, 76], [47, 76], [55, 47, 76], [46, 47, 76], [55, 46, 47, 76], [89, 76], [55, 89, 76], [46, 89, 76], [55, 46, 89, 76], [47, 89, 76], [55, 47, 89, 76], [46, 47, 89, 76], [55, 46, 47, 89, 76]]\n"
     ]
    }
   ],
   "source": [
    "def combinations(l):\n",
    "    result = []\n",
    "    if not l:\n",
    "        return [[]]\n",
    "    for i in combinations(l[1:]):\n",
    "        result.append(i)\n",
    "        result.append([l[0]] + i)\n",
    "    return result\n",
    "test_list = [55, 46, 47, 89, 76]\n",
    "print(combinations(test_list))"
   ]
  },
  {
   "cell_type": "code",
   "execution_count": null,
   "id": "6c0a5d4f-02ca-4f0b-96fa-be330b9cbd39",
   "metadata": {},
   "outputs": [],
   "source": []
  },
  {
   "cell_type": "markdown",
   "id": "21813e99-1075-4b81-900a-048f62e35a69",
   "metadata": {},
   "source": [
    "## Basics of Functions ##"
   ]
  },
  {
   "cell_type": "code",
   "execution_count": 8,
   "id": "fa10dd18-f492-45a7-b0fb-cc9ebbb02116",
   "metadata": {},
   "outputs": [],
   "source": [
    "##1.What is a function in Python, and why is it used?"
   ]
  },
  {
   "cell_type": "raw",
   "id": "95496353-fae6-4e20-8a96-d7261ed5b9d5",
   "metadata": {},
   "source": [
    "Function is nothing  but a block of code which performs certain task.\n",
    "If we want to perform a set of task mutiple times , If we will do it without function , we need to write all lines of code every time. by using function we \n",
    "write function once & reuse it by calling it."
   ]
  },
  {
   "cell_type": "code",
   "execution_count": null,
   "id": "947f4dbf-447d-4c25-8406-f023a1d10f98",
   "metadata": {},
   "outputs": [],
   "source": []
  },
  {
   "cell_type": "code",
   "execution_count": 9,
   "id": "19ccd517-6551-480b-994e-f9f874b37d57",
   "metadata": {},
   "outputs": [],
   "source": [
    "##2.How do you define a function in Python? Provide an example"
   ]
  },
  {
   "cell_type": "code",
   "execution_count": 11,
   "id": "954dcad2-31d2-43f6-bc7d-fc725d170593",
   "metadata": {},
   "outputs": [
    {
     "name": "stdout",
     "output_type": "stream",
     "text": [
      "Area of rectangle is :  6\n"
     ]
    }
   ],
   "source": [
    "#calculating the area of a rectangle \n",
    "def rectangle(l,b):\n",
    "    return l*b\n",
    "\n",
    "Area=square(2,3)\n",
    "print(\"Area of rectangle is : \",Area)\n",
    "    "
   ]
  },
  {
   "cell_type": "code",
   "execution_count": null,
   "id": "5acbe139-5273-46f0-8713-892c1f9c0e99",
   "metadata": {},
   "outputs": [],
   "source": []
  },
  {
   "cell_type": "code",
   "execution_count": 12,
   "id": "37f6620d-c1c5-4310-ac4e-0e3bcaaaa2e3",
   "metadata": {},
   "outputs": [],
   "source": [
    "##3.Explain the difference between a function definition and a function call."
   ]
  },
  {
   "cell_type": "raw",
   "id": "f8b420f5-2038-470f-a4fe-e98af50b7cbf",
   "metadata": {},
   "source": [
    "When we write function for the first time i.e function defintion but next time when we are using the same function again with function name & it's arguments , it is called function calling."
   ]
  },
  {
   "cell_type": "code",
   "execution_count": null,
   "id": "67ac7e55-4619-4ed0-8236-6a26269e0fce",
   "metadata": {},
   "outputs": [],
   "source": []
  },
  {
   "cell_type": "code",
   "execution_count": 13,
   "id": "5a4fefa8-be0c-49d5-ae0f-6a9b1551fc45",
   "metadata": {},
   "outputs": [],
   "source": [
    "##4.Write a Python program that defines a function to calculate the sum of two numbers and then calls the function."
   ]
  },
  {
   "cell_type": "code",
   "execution_count": 14,
   "id": "031faf3f-e8b3-487e-ba7f-83d0daf6c155",
   "metadata": {},
   "outputs": [
    {
     "data": {
      "text/plain": [
       "5"
      ]
     },
     "execution_count": 14,
     "metadata": {},
     "output_type": "execute_result"
    }
   ],
   "source": [
    "## Function Definition\n",
    "def add(a,b):\n",
    "    return a+b\n",
    "\n",
    "### Function Calling\n",
    "\n",
    "add(2,3)"
   ]
  },
  {
   "cell_type": "code",
   "execution_count": null,
   "id": "05f016af-e6e0-49bd-9716-859e95395b7e",
   "metadata": {},
   "outputs": [],
   "source": []
  },
  {
   "cell_type": "code",
   "execution_count": 15,
   "id": "0b9709f9-ea5b-457d-9b1d-f61a95e84d1e",
   "metadata": {},
   "outputs": [],
   "source": [
    "##5.What is a function signature, and what information does it typically include?"
   ]
  },
  {
   "cell_type": "raw",
   "id": "4cf37bd7-6695-419f-9c8c-5bfa0529ecb6",
   "metadata": {},
   "source": [
    "function signature tells us about the types of parameters that a function can accept and the type of data it returns."
   ]
  },
  {
   "cell_type": "code",
   "execution_count": null,
   "id": "84688c7c-81af-40b5-a6b6-a2d304f098bd",
   "metadata": {},
   "outputs": [],
   "source": []
  },
  {
   "cell_type": "code",
   "execution_count": 18,
   "id": "33b7735a-5800-4906-8b46-49df7c7518d9",
   "metadata": {},
   "outputs": [],
   "source": [
    "##6.Create a Python function that takes two arguments and returns their product."
   ]
  },
  {
   "cell_type": "code",
   "execution_count": 19,
   "id": "a30cfc72-d6fd-48e5-ba3c-e3ff886ccbf7",
   "metadata": {},
   "outputs": [
    {
     "data": {
      "text/plain": [
       "50"
      ]
     },
     "execution_count": 19,
     "metadata": {},
     "output_type": "execute_result"
    }
   ],
   "source": [
    "def product(a,b):\n",
    "    return a*b\n",
    "\n",
    "product(5,10)"
   ]
  },
  {
   "cell_type": "code",
   "execution_count": null,
   "id": "5843867e-1c4c-41f6-b0a2-d676b4022d9f",
   "metadata": {},
   "outputs": [],
   "source": []
  },
  {
   "cell_type": "markdown",
   "id": "75725c3c-4264-4681-9692-b67418ac1e14",
   "metadata": {},
   "source": [
    "## Function Parameters and Arguments ##"
   ]
  },
  {
   "cell_type": "code",
   "execution_count": 20,
   "id": "32f44a7f-c5fd-4385-83a1-9dc080967952",
   "metadata": {},
   "outputs": [],
   "source": [
    "##1.Explain the concepts of formal parameters and actual arguments in Python functions."
   ]
  },
  {
   "cell_type": "raw",
   "id": "38ff2dc6-0862-47bc-906d-96b31984efe8",
   "metadata": {},
   "source": [
    "Formal Parameters are the parameters which are defined during the definition of the function.\n",
    "Actual Parameters are the parameters which are defined during the function call.\n"
   ]
  },
  {
   "cell_type": "raw",
   "id": "76aeda03-7978-44d6-b9c2-65b091be1d53",
   "metadata": {},
   "source": [
    "Types of Actual Arguments\n",
    "\n",
    "1.Positional Arguments: Positional Arguments are parameters which are passed in sequence.\n"
   ]
  },
  {
   "cell_type": "code",
   "execution_count": 24,
   "id": "ca2a1997-0862-448e-8274-2f70b497b391",
   "metadata": {},
   "outputs": [],
   "source": [
    "def bio(name,age):\n",
    "    pass\n",
    "bio(\"shivank\",26)"
   ]
  },
  {
   "cell_type": "raw",
   "id": "bd6ef028-91d3-428b-8869-bbd80e343f12",
   "metadata": {},
   "source": [
    "2.Keyword Arguments : Keyword Arguments are the parameters that which are capable of identifying the parameters with their specified name"
   ]
  },
  {
   "cell_type": "code",
   "execution_count": 25,
   "id": "f9bcfab0-d478-4bef-8a4e-1e436a8aac23",
   "metadata": {},
   "outputs": [],
   "source": [
    "def bio(name,age):\n",
    "    pass\n",
    "bio(name=\"shivank\",age=26)"
   ]
  },
  {
   "cell_type": "raw",
   "id": "af9338e2-0276-49f0-af69-fc62eb3092d5",
   "metadata": {},
   "source": [
    "3.Default Arguments:Default paramameters are the parameters in which we can specify the default value for the parameters while defining the function."
   ]
  },
  {
   "cell_type": "code",
   "execution_count": 27,
   "id": "3cc5a0f6-c79d-4045-9148-ab1e25d14d51",
   "metadata": {},
   "outputs": [],
   "source": [
    "def bio(name,age=26):\n",
    "    pass\n",
    "bio(\"Shivank\")"
   ]
  },
  {
   "cell_type": "raw",
   "id": "06290b45-9137-4272-b671-d11715cc3508",
   "metadata": {},
   "source": [
    "4.Variable length Parameter:Whenver we do not know how many number of arguments will be required in any function we use Variable length parameters."
   ]
  },
  {
   "cell_type": "code",
   "execution_count": 29,
   "id": "a8bf48c4-defc-4618-b54a-6db3f7245131",
   "metadata": {},
   "outputs": [
    {
     "name": "stdout",
     "output_type": "stream",
     "text": [
      "*Args are :  2\n",
      "*Args are :  3\n",
      "*Args are :  5\n"
     ]
    }
   ],
   "source": [
    "## ARGS store the data in tuple\n",
    "def bio(b,*args):\n",
    "    for i in args:\n",
    "        print(\"*Args are : \",i)\n",
    "bio(1,2,3,5)"
   ]
  },
  {
   "cell_type": "code",
   "execution_count": 30,
   "id": "5964ae5f-49af-4b89-8f05-a60b843ffb5b",
   "metadata": {},
   "outputs": [
    {
     "name": "stdout",
     "output_type": "stream",
     "text": [
      "name : Apurv\n",
      "marks : 95\n",
      "grade : A+\n",
      "result : PASS\n"
     ]
    }
   ],
   "source": [
    "##kwargs stores data in dictionary in keyvalue pair.\n",
    "def display(rollno, **kwargs):\n",
    "    for i, j in kwargs.items(): \n",
    "        print(\"{0} : {1}\".format(i, j))\n",
    "display(1, name = 'Apurv', marks = 95, grade = 'A+', result = 'PASS')"
   ]
  },
  {
   "cell_type": "code",
   "execution_count": null,
   "id": "de256c78-4642-4ae3-bc03-3f9ca38d0a25",
   "metadata": {},
   "outputs": [],
   "source": []
  },
  {
   "cell_type": "code",
   "execution_count": 31,
   "id": "8671722b-8f59-4fc4-ba02-7f745dc3770e",
   "metadata": {},
   "outputs": [],
   "source": [
    "##2.Write a Python program that defines a function with default argument values."
   ]
  },
  {
   "cell_type": "code",
   "execution_count": 34,
   "id": "fca5dee8-80ec-42cc-86ac-ccd2a6a0e999",
   "metadata": {},
   "outputs": [],
   "source": [
    "def result(marks_gained,passing_marks=35):\n",
    "    if marks_gained>=passing_marks:\n",
    "        return print(\"Pass\")\n",
    "    else:\n",
    "        return print(\"Fail\")"
   ]
  },
  {
   "cell_type": "code",
   "execution_count": 38,
   "id": "808f960a-5d61-458e-a686-b66ed4a429b1",
   "metadata": {},
   "outputs": [
    {
     "name": "stdout",
     "output_type": "stream",
     "text": [
      "Pass\n"
     ]
    }
   ],
   "source": [
    "result(35)"
   ]
  },
  {
   "cell_type": "code",
   "execution_count": null,
   "id": "9e4731e7-cf02-4c0c-b79c-47454d79f610",
   "metadata": {},
   "outputs": [],
   "source": []
  },
  {
   "cell_type": "code",
   "execution_count": 39,
   "id": "b937477a-c471-42cd-9dd2-6e66e75e7d58",
   "metadata": {},
   "outputs": [],
   "source": [
    "##3.How do you use keyword arguments in Python function calls? Provide an example."
   ]
  },
  {
   "cell_type": "code",
   "execution_count": 40,
   "id": "4477c702-1bba-479c-b103-c0a6f9e6673b",
   "metadata": {},
   "outputs": [
    {
     "name": "stdout",
     "output_type": "stream",
     "text": [
      "Eligible to vote\n"
     ]
    }
   ],
   "source": [
    "def bio(name,age):\n",
    "    if age>=18:\n",
    "        return print(\"Eligible to vote\")\n",
    "    else:\n",
    "        return print(\"Not Eligible to vote\")\n",
    "bio(name=\"shivank\",age=26)"
   ]
  },
  {
   "cell_type": "code",
   "execution_count": null,
   "id": "b14eb6dc-6f83-49fb-8c48-7f140fe1e810",
   "metadata": {},
   "outputs": [],
   "source": []
  },
  {
   "cell_type": "code",
   "execution_count": 41,
   "id": "bfa366c0-262f-47bc-bb88-df942ecae405",
   "metadata": {},
   "outputs": [],
   "source": [
    "##4.Create a Python function that accepts a variable number of arguments and calculates their sum."
   ]
  },
  {
   "cell_type": "code",
   "execution_count": 48,
   "id": "43df2fca-12d9-4658-b9b0-9c956d9112e4",
   "metadata": {},
   "outputs": [],
   "source": [
    "def add(*args):\n",
    "    return sum(*args)"
   ]
  },
  {
   "cell_type": "code",
   "execution_count": 49,
   "id": "c8224e60-4ad6-4011-a930-d1f1a3ac135f",
   "metadata": {},
   "outputs": [
    {
     "data": {
      "text/plain": [
       "122"
      ]
     },
     "execution_count": 49,
     "metadata": {},
     "output_type": "execute_result"
    }
   ],
   "source": [
    "add((1,2,34,5,66,7,7))"
   ]
  },
  {
   "cell_type": "code",
   "execution_count": null,
   "id": "0d8fc56a-6258-4ef8-bc32-932168c70abf",
   "metadata": {},
   "outputs": [],
   "source": []
  },
  {
   "cell_type": "code",
   "execution_count": 50,
   "id": "b51a3614-534f-48a9-be02-792a6ecef919",
   "metadata": {},
   "outputs": [],
   "source": [
    "##5.What is the purpose of the `*args` and `**kwargs` syntax in function parameter lists?"
   ]
  },
  {
   "cell_type": "code",
   "execution_count": 51,
   "id": "39fb924a-1c77-4657-9207-8a2dd0beab68",
   "metadata": {},
   "outputs": [
    {
     "name": "stdout",
     "output_type": "stream",
     "text": [
      "*Args are :  2\n",
      "*Args are :  3\n",
      "*Args are :  5\n"
     ]
    }
   ],
   "source": [
    "## ARGS store the data in tuple\n",
    "def bio(b,*args):\n",
    "    for i in args:\n",
    "        print(\"*Args are : \",i)\n",
    "bio(1,2,3,5)"
   ]
  },
  {
   "cell_type": "code",
   "execution_count": 52,
   "id": "63b5d77e-cf33-4efb-a8e2-30ec2a103ea0",
   "metadata": {},
   "outputs": [
    {
     "name": "stdout",
     "output_type": "stream",
     "text": [
      "name : Apurv\n",
      "marks : 95\n",
      "grade : A+\n",
      "result : PASS\n"
     ]
    }
   ],
   "source": [
    "##kwargs stores data in dictionary in key-value pair.\n",
    "def display(rollno, **kwargs):\n",
    "    for i, j in kwargs.items(): \n",
    "        print(\"{0} : {1}\".format(i, j))\n",
    "display(1, name = 'Apurv', marks = 95, grade = 'A+', result = 'PASS')"
   ]
  },
  {
   "cell_type": "code",
   "execution_count": null,
   "id": "c11b57d1-d03a-4642-ae60-d30722dda536",
   "metadata": {},
   "outputs": [],
   "source": []
  },
  {
   "cell_type": "markdown",
   "id": "a25ffdb0-723b-4ee9-8bb6-1942223ca3b1",
   "metadata": {},
   "source": [
    "## Return Values and Scoping ##"
   ]
  },
  {
   "cell_type": "code",
   "execution_count": 54,
   "id": "e49bc571-3d31-4007-9a83-296fe7a85fdf",
   "metadata": {},
   "outputs": [],
   "source": [
    "##1.Describe the role of the `return` statement in Python functions and provide examples."
   ]
  },
  {
   "cell_type": "raw",
   "id": "efbbad80-69e0-4e83-92fa-d563836a17d6",
   "metadata": {},
   "source": [
    "Print just shows a string representing what is going on inside the computer. The computer cannot make use of that printing.Return in a function which gives back a value. This value is often unseen by the human user, but it can be used by the computer in further functions."
   ]
  },
  {
   "cell_type": "code",
   "execution_count": 56,
   "id": "c54a69a7-1def-40b7-bce1-4c6304477929",
   "metadata": {},
   "outputs": [],
   "source": [
    "def add(a,b):\n",
    "    return a+b"
   ]
  },
  {
   "cell_type": "code",
   "execution_count": 57,
   "id": "0e7c55cd-7a06-4e73-bb98-068cf15003ef",
   "metadata": {},
   "outputs": [],
   "source": []
  },
  {
   "cell_type": "code",
   "execution_count": 58,
   "id": "4a43dda4-9bcb-49a6-8381-7142e53f3941",
   "metadata": {},
   "outputs": [],
   "source": [
    "##2.Explain the concept of variable scope in Python, including local and global variables."
   ]
  },
  {
   "cell_type": "raw",
   "id": "6c215bba-a482-4463-bfe2-2867451fb8be",
   "metadata": {},
   "source": [
    "Global variables are those which are not defined inside any function and have a global scope whereas Local variables are those which are defined inside a function and their scope is limited to that function only."
   ]
  },
  {
   "cell_type": "code",
   "execution_count": null,
   "id": "d34c02dd-d498-4721-b6ee-2e9261a8e7f5",
   "metadata": {},
   "outputs": [],
   "source": []
  },
  {
   "cell_type": "code",
   "execution_count": 59,
   "id": "7fe6d84b-495c-459b-bc82-a438a3bd0f34",
   "metadata": {},
   "outputs": [],
   "source": [
    "##3.Write a Python program that demonstrates the use of global variables within functions."
   ]
  },
  {
   "cell_type": "code",
   "execution_count": 61,
   "id": "65883dae-f5a3-463f-b4bf-b1b07d17ac84",
   "metadata": {},
   "outputs": [
    {
     "name": "stdout",
     "output_type": "stream",
     "text": [
      "My Name is  : shivank\n"
     ]
    }
   ],
   "source": [
    "## name is a global variable which is used inside bio function\n",
    "\n",
    "name=\"shivank\"\n",
    "def bio():\n",
    "    print(\"My Name is  :\",name)\n",
    "bio()"
   ]
  },
  {
   "cell_type": "code",
   "execution_count": null,
   "id": "82d05a58-9110-45fb-b991-9faa6d7042ea",
   "metadata": {},
   "outputs": [],
   "source": []
  },
  {
   "cell_type": "code",
   "execution_count": 62,
   "id": "7d9fba74-e7c9-41c3-a77a-99f8133663a4",
   "metadata": {},
   "outputs": [],
   "source": [
    "##4.Create a Python function that calculates the factorial of a number and returns it."
   ]
  },
  {
   "cell_type": "code",
   "execution_count": 66,
   "id": "69cf4877-02f0-4c3b-acd5-ccf9fccfc5e4",
   "metadata": {},
   "outputs": [
    {
     "name": "stdin",
     "output_type": "stream",
     "text": [
      "Enter the number 4\n"
     ]
    },
    {
     "name": "stdout",
     "output_type": "stream",
     "text": [
      "Factorial of the number : 24\n"
     ]
    }
   ],
   "source": [
    "number=int(input(\"Enter the number\"))\n",
    "fact=1\n",
    "for i in range(1,number+1):\n",
    "    fact=fact*i\n",
    "print(\"Factorial of the number :\",fact)"
   ]
  },
  {
   "cell_type": "code",
   "execution_count": null,
   "id": "2cc99fd8-26ae-48aa-b83d-9fa7ba39ab3f",
   "metadata": {},
   "outputs": [],
   "source": []
  },
  {
   "cell_type": "code",
   "execution_count": 67,
   "id": "f9b0301a-f23d-43be-87df-9efc2de3e156",
   "metadata": {},
   "outputs": [],
   "source": [
    "##5.How can you access variables defined outside a function from within the function?"
   ]
  },
  {
   "cell_type": "code",
   "execution_count": 69,
   "id": "ed713789-d6a1-43de-afc3-0f0aa16baf39",
   "metadata": {},
   "outputs": [
    {
     "name": "stdout",
     "output_type": "stream",
     "text": [
      "My Name is  : shivank\n"
     ]
    }
   ],
   "source": [
    "name=\"shivank\"\n",
    "def bio():\n",
    "    print(\"My Name is  :\",name)\n",
    "bio()"
   ]
  },
  {
   "cell_type": "code",
   "execution_count": null,
   "id": "cdfbef57-76cd-4ab4-aa56-0ec372b855fe",
   "metadata": {},
   "outputs": [],
   "source": []
  },
  {
   "cell_type": "markdown",
   "id": "01a90d45-f96f-478b-b75e-f2abdd2bcc31",
   "metadata": {},
   "source": [
    "## Lambda Functions and Higher-Order Functions ##"
   ]
  },
  {
   "cell_type": "code",
   "execution_count": 71,
   "id": "5f7a630e-1997-4287-a891-6bb3db10917f",
   "metadata": {},
   "outputs": [],
   "source": [
    "##1.What are lambda functions in Python, and when are they typically used?"
   ]
  },
  {
   "cell_type": "raw",
   "id": "e13d95d7-e0cf-4082-b183-bb0559f6132c",
   "metadata": {},
   "source": [
    "Lambda function is a anonymous function whose syntax is a single line syntax."
   ]
  },
  {
   "cell_type": "raw",
   "id": "8e86b23b-64aa-4a8a-8ee0-ddcb1e734c4d",
   "metadata": {},
   "source": []
  },
  {
   "cell_type": "code",
   "execution_count": 73,
   "id": "a8805230-d54d-4a1d-85e3-e3506302fd39",
   "metadata": {},
   "outputs": [],
   "source": [
    "##2.Write a Python program that uses lambda functions to sort a list of tuples based on the second element."
   ]
  },
  {
   "cell_type": "code",
   "execution_count": 79,
   "id": "a79dca10-ff2b-4309-b435-c63fe1844c94",
   "metadata": {},
   "outputs": [
    {
     "data": {
      "text/plain": [
       "[345, 656, 23232, 56457, 123124, 2343534]"
      ]
     },
     "execution_count": 79,
     "metadata": {},
     "output_type": "execute_result"
    }
   ],
   "source": [
    "list1=[345,656,23232,56457,123124,2343534]\n",
    "sorted_list=sorted(list1,key=lambda x:x)\n",
    "sorted_list"
   ]
  },
  {
   "cell_type": "code",
   "execution_count": null,
   "id": "07cfbf66-6300-4c46-b122-14aa73e76c43",
   "metadata": {},
   "outputs": [],
   "source": []
  },
  {
   "cell_type": "code",
   "execution_count": 80,
   "id": "c89b936d-546c-4f2c-8905-b8a328e7f858",
   "metadata": {},
   "outputs": [],
   "source": [
    "##3.Explain the concept of higher-order functions in Python, and provide an example."
   ]
  },
  {
   "cell_type": "raw",
   "id": "5ad243d2-0b9e-434c-898e-1ed64122f4f8",
   "metadata": {},
   "source": [
    "If a function contains another function as parameter or returns a function as an output that is called Higher order Functions."
   ]
  },
  {
   "cell_type": "code",
   "execution_count": 14,
   "id": "d044fd94-af8b-42b8-8ccc-a8feb149564a",
   "metadata": {},
   "outputs": [
    {
     "name": "stdout",
     "output_type": "stream",
     "text": [
      "SHIVANK\n",
      "HELLO\n"
     ]
    }
   ],
   "source": [
    "def demo(mystr):\n",
    "    return mystr.upper()\n",
    "\n",
    "print(demo('shivank'))\n",
    "sample = demo\n",
    "print(sample('Hello'))"
   ]
  },
  {
   "cell_type": "code",
   "execution_count": null,
   "id": "f48480b1-e2d2-4439-b722-bf7d79c9f7be",
   "metadata": {},
   "outputs": [],
   "source": []
  },
  {
   "cell_type": "code",
   "execution_count": 1,
   "id": "92604838-6180-4e25-ad1b-961ac4ff98fe",
   "metadata": {},
   "outputs": [],
   "source": [
    "##4.Create a Python function that takes a list of numbers and a function as arguments, applying the function to each element in the list."
   ]
  },
  {
   "cell_type": "code",
   "execution_count": 2,
   "id": "966703f1-f045-40cf-bb41-4f596091fadc",
   "metadata": {},
   "outputs": [],
   "source": [
    "def square(n):\n",
    "    return n*n\n",
    "\n",
    "lst1=[1,2,3,4,6]\n",
    "out=list(map(square,lst1))"
   ]
  },
  {
   "cell_type": "code",
   "execution_count": 3,
   "id": "a0e1d068-2144-4102-ad97-f949ec521ad3",
   "metadata": {},
   "outputs": [
    {
     "data": {
      "text/plain": [
       "[1, 4, 9, 16, 36]"
      ]
     },
     "execution_count": 3,
     "metadata": {},
     "output_type": "execute_result"
    }
   ],
   "source": [
    "out"
   ]
  },
  {
   "cell_type": "code",
   "execution_count": null,
   "id": "5ae787c4-ae14-411b-9f53-648c73ee83e8",
   "metadata": {},
   "outputs": [],
   "source": []
  },
  {
   "cell_type": "markdown",
   "id": "e4c67943-9945-4d85-9f1c-0dc44720efc7",
   "metadata": {},
   "source": [
    "## Build in Functions ##"
   ]
  },
  {
   "cell_type": "code",
   "execution_count": null,
   "id": "83db245f-93a4-4211-a07a-96999e997df2",
   "metadata": {},
   "outputs": [],
   "source": []
  },
  {
   "cell_type": "code",
   "execution_count": 5,
   "id": "c885d1fc-4313-44ef-8cc7-d671cd2371a1",
   "metadata": {},
   "outputs": [],
   "source": [
    "##1.Describe the role of built-in functions like `len()`, `max()`, and `min()` in Python."
   ]
  },
  {
   "cell_type": "raw",
   "id": "e8debacd-072b-4fa9-9a80-226792d391a3",
   "metadata": {},
   "source": [
    "len() - Function returns the len of string , list , tuple etc.\n",
    "max() - Returns maximum value from list,tuple etc.\n",
    "min() - Returns minimum value from list.tuple etc."
   ]
  },
  {
   "cell_type": "code",
   "execution_count": null,
   "id": "49cca78e-125f-4e17-897a-ded77c46b1f5",
   "metadata": {},
   "outputs": [],
   "source": []
  },
  {
   "cell_type": "code",
   "execution_count": 6,
   "id": "fd2120ef-9807-4455-87bc-f8d1146f7722",
   "metadata": {},
   "outputs": [],
   "source": [
    "##2.Write a Python program that uses the `map()` function to apply a function to each element of a list."
   ]
  },
  {
   "cell_type": "code",
   "execution_count": 7,
   "id": "46c0d568-3556-4476-b28c-5c7704b2c869",
   "metadata": {},
   "outputs": [],
   "source": [
    "def square(n):\n",
    "    return n*n\n",
    "\n",
    "lst1=[1,2,3,4,6]\n",
    "out=list(map(square,lst1))"
   ]
  },
  {
   "cell_type": "code",
   "execution_count": null,
   "id": "5c10eebc-8571-47ac-8e64-8f7d8548a5ac",
   "metadata": {},
   "outputs": [],
   "source": []
  },
  {
   "cell_type": "code",
   "execution_count": 8,
   "id": "695adf7d-b45e-4e88-aa4f-df0c1783a4ee",
   "metadata": {},
   "outputs": [],
   "source": [
    "##3.How does the `filter()` function work in Python, and when would you use it?"
   ]
  },
  {
   "cell_type": "raw",
   "id": "45ab5659-84da-4182-a93d-562c798d251f",
   "metadata": {},
   "source": [
    "The filter() function returns an iterator where the items are filtered through a function(condition) to test if the item satisfies the condition or not."
   ]
  },
  {
   "cell_type": "code",
   "execution_count": 15,
   "id": "e36bb0db-79df-4796-a6d5-ec508517fc41",
   "metadata": {},
   "outputs": [
    {
     "name": "stdout",
     "output_type": "stream",
     "text": [
      "18\n",
      "24\n",
      "32\n"
     ]
    }
   ],
   "source": [
    "ages = [5, 12, 17, 18, 24, 32]\n",
    "\n",
    "def age(x):\n",
    "    if x < 18:\n",
    "        return False\n",
    "    else:\n",
    "        return True\n",
    "\n",
    "adult = filter(age, ages)\n",
    "\n",
    "for i in adult:\n",
    "    print(i)"
   ]
  },
  {
   "cell_type": "code",
   "execution_count": 9,
   "id": "6eeb345a-b58d-4197-a196-77bce50e9a55",
   "metadata": {},
   "outputs": [],
   "source": [
    "##4.Create a Python program that uses the `reduce()` function to find the product of all elements in a list."
   ]
  },
  {
   "cell_type": "code",
   "execution_count": 10,
   "id": "0b1b65fc-7df6-4442-8768-824da8a027b4",
   "metadata": {},
   "outputs": [
    {
     "name": "stdout",
     "output_type": "stream",
     "text": [
      "120\n"
     ]
    }
   ],
   "source": [
    "from functools import reduce \n",
    "list1 = [1, 2, 3, 4, 5]\n",
    "print(reduce((lambda a, b: a*b), list1)) "
   ]
  },
  {
   "cell_type": "code",
   "execution_count": null,
   "id": "ac20df40-db12-498e-a0a6-573294f01be9",
   "metadata": {},
   "outputs": [],
   "source": []
  },
  {
   "cell_type": "markdown",
   "id": "9f151e40-ec35-41a4-a5d6-1c2cfabd1d3d",
   "metadata": {},
   "source": [
    "## Function Documentation and Best Practices ##"
   ]
  },
  {
   "cell_type": "code",
   "execution_count": 65,
   "id": "d26f72ac-9780-4076-b731-3a40f7796493",
   "metadata": {},
   "outputs": [],
   "source": [
    "##1.Explain the purpose of docstrings in Python functions and how to write them."
   ]
  },
  {
   "cell_type": "raw",
   "id": "358f736a-0400-4f2d-a7db-c6f71a0f26d1",
   "metadata": {},
   "source": [
    "Docstrings help you understand the capabilities of a module or a function."
   ]
  },
  {
   "cell_type": "code",
   "execution_count": 16,
   "id": "6fa357cc-17ef-48d9-9e58-e3ed94c592b9",
   "metadata": {},
   "outputs": [],
   "source": [
    "def string_reverse(str1):\n",
    "    '''Returns the reversed String.\n",
    "\n",
    "    #Parameters:\n",
    "    #    str1 (str):The string which is to be reversed.\n",
    "\n",
    "    #Returns:\n",
    "    #    reverse(str1):The string which gets reversed.'''\n",
    "\n",
    "    reverse_str1 = ''\n",
    "    i = len(str1)\n",
    "    while i > 0:\n",
    "        reverse_str1 += str1[i - 1]\n",
    "        i = i- 1\n",
    "    return reverse_str1"
   ]
  },
  {
   "cell_type": "code",
   "execution_count": 17,
   "id": "7fcbc5a1-1704-49f5-be6d-969186f06bea",
   "metadata": {},
   "outputs": [
    {
     "name": "stdout",
     "output_type": "stream",
     "text": [
      "Help on function string_reverse in module __main__:\n",
      "\n",
      "string_reverse(str1)\n",
      "    Returns the reversed String.\n",
      "    \n",
      "    #Parameters:\n",
      "    #    str1 (str):The string which is to be reversed.\n",
      "    \n",
      "    #Returns:\n",
      "    #    reverse(str1):The string which gets reversed.\n",
      "\n"
     ]
    }
   ],
   "source": [
    "help(string_reverse)"
   ]
  },
  {
   "cell_type": "code",
   "execution_count": 12,
   "id": "0d76ec59-ae98-4731-8861-87280f9f336f",
   "metadata": {},
   "outputs": [],
   "source": [
    "##2.Describe some best practices for naming functions and variables in Python, including naming conventions and guidelines."
   ]
  },
  {
   "cell_type": "raw",
   "id": "efc7677e-eca7-41ec-b214-c95208a6fa0a",
   "metadata": {},
   "source": [
    "1.Descriptive & Meaningful names\n",
    "2.Consistent naming convention\n",
    "3.Avoid reserved keywords\n",
    "4.Do not use abbreviations\n",
    "5.Be mindful of variable scope."
   ]
  }
 ],
 "metadata": {
  "kernelspec": {
   "display_name": "Python 3 (ipykernel)",
   "language": "python",
   "name": "python3"
  },
  "language_info": {
   "codemirror_mode": {
    "name": "ipython",
    "version": 3
   },
   "file_extension": ".py",
   "mimetype": "text/x-python",
   "name": "python",
   "nbconvert_exporter": "python",
   "pygments_lexer": "ipython3",
   "version": "3.10.8"
  }
 },
 "nbformat": 4,
 "nbformat_minor": 5
}
